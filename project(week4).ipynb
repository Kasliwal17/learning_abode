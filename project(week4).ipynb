{
  "nbformat": 4,
  "nbformat_minor": 0,
  "metadata": {
    "colab": {
      "name": "Untitled1.ipynb",
      "provenance": [],
      "collapsed_sections": []
    },
    "kernelspec": {
      "name": "python3",
      "display_name": "Python 3"
    },
    "language_info": {
      "name": "python"
    }
  },
  "cells": [
    {
      "cell_type": "code",
      "execution_count": 1,
      "metadata": {
        "id": "O_SRz1-2j-A7"
      },
      "outputs": [],
      "source": [
        "import pandas as pd\n",
        "import numpy as np\n",
        "import matplotlib.pyplot as plt\n",
        "import seaborn as sns\n",
        "% matplotlib inline"
      ]
    },
    {
      "cell_type": "code",
      "source": [
        "from google.colab import drive\n",
        "\n",
        "drive.mount('/content/drive')"
      ],
      "metadata": {
        "colab": {
          "base_uri": "https://localhost:8080/"
        },
        "id": "s-mAI45NkSnF",
        "outputId": "5e7a795b-8ff4-4616-a927-007a42137c2d"
      },
      "execution_count": 2,
      "outputs": [
        {
          "output_type": "stream",
          "name": "stdout",
          "text": [
            "Mounted at /content/drive\n"
          ]
        }
      ]
    },
    {
      "cell_type": "code",
      "source": [
        "pd_train = pd.read_csv('/content/drive/MyDrive/Datasets/fashion-mnist_train.csv')"
      ],
      "metadata": {
        "id": "WdI7M2pDkYda"
      },
      "execution_count": 3,
      "outputs": []
    },
    {
      "cell_type": "code",
      "source": [
        "pd_test = pd.read_csv('/content/drive/MyDrive/Datasets/fashion-mnist_test.csv')"
      ],
      "metadata": {
        "id": "sL4yiSY6kykn"
      },
      "execution_count": 4,
      "outputs": []
    },
    {
      "cell_type": "code",
      "source": [
        "pd_train.shape"
      ],
      "metadata": {
        "colab": {
          "base_uri": "https://localhost:8080/"
        },
        "id": "T8j5sqtdnwfi",
        "outputId": "24d08bce-6190-4b08-d7ee-d1b6b72d0a94"
      },
      "execution_count": 5,
      "outputs": [
        {
          "output_type": "execute_result",
          "data": {
            "text/plain": [
              "(60000, 785)"
            ]
          },
          "metadata": {},
          "execution_count": 5
        }
      ]
    },
    {
      "cell_type": "code",
      "source": [
        "pd_test.shape"
      ],
      "metadata": {
        "colab": {
          "base_uri": "https://localhost:8080/"
        },
        "id": "tkrzgSe2n0he",
        "outputId": "7e5489e1-cc68-4a1c-9147-a301c3c28b72"
      },
      "execution_count": 6,
      "outputs": [
        {
          "output_type": "execute_result",
          "data": {
            "text/plain": [
              "(10000, 785)"
            ]
          },
          "metadata": {},
          "execution_count": 6
        }
      ]
    },
    {
      "cell_type": "code",
      "source": [
        "def sigmoid(x):\n",
        "    return 1/(1+np.exp(-x))\n",
        "\n",
        "def sigmoid_der(x):\n",
        "    return sigmoid(x) *(1-sigmoid (x))\n",
        "\n",
        "def softmax(A):\n",
        "    expA = np.exp(A)\n",
        "    return expA / expA.sum(axis=1, keepdims=True)\n",
        "def stable_softmax(X):\n",
        "    exps = np.exp(X - np.max(X))\n",
        "    return exps / np.sum(exps)"
      ],
      "metadata": {
        "id": "H4gn2uEMb-Cs"
      },
      "execution_count": 7,
      "outputs": []
    },
    {
      "cell_type": "code",
      "source": [
        "x_train =np.array(pd_train.drop('label',axis=1))/255"
      ],
      "metadata": {
        "id": "9Qgb8y7ncRbj"
      },
      "execution_count": 16,
      "outputs": []
    },
    {
      "cell_type": "code",
      "source": [
        "x_train.shape"
      ],
      "metadata": {
        "colab": {
          "base_uri": "https://localhost:8080/"
        },
        "id": "XLdSjgRJlktu",
        "outputId": "dfadcbae-b11f-4668-9076-e701a1c32b29"
      },
      "execution_count": 17,
      "outputs": [
        {
          "output_type": "execute_result",
          "data": {
            "text/plain": [
              "(60000, 784)"
            ]
          },
          "metadata": {},
          "execution_count": 17
        }
      ]
    },
    {
      "cell_type": "code",
      "source": [
        "y_train = np.array(pd_train['label'])"
      ],
      "metadata": {
        "id": "Q5TwKVUfcg3L"
      },
      "execution_count": 10,
      "outputs": []
    },
    {
      "cell_type": "code",
      "source": [
        "y = np.zeros((60000,10))"
      ],
      "metadata": {
        "id": "yFtaJoQOc8bN"
      },
      "execution_count": 11,
      "outputs": []
    },
    {
      "cell_type": "code",
      "source": [
        "for i in range(60000):\n",
        "  classs = y_train[i]\n",
        "  y[i][classs] = 1"
      ],
      "metadata": {
        "id": "uLZuah1adeQK"
      },
      "execution_count": 12,
      "outputs": []
    },
    {
      "cell_type": "code",
      "source": [
        "y_train = y\n",
        "y_train.shape"
      ],
      "metadata": {
        "colab": {
          "base_uri": "https://localhost:8080/"
        },
        "id": "phQ8BlcEd7Yo",
        "outputId": "86bfcce5-5737-4270-b5a3-7bb5360182f4"
      },
      "execution_count": 13,
      "outputs": [
        {
          "output_type": "execute_result",
          "data": {
            "text/plain": [
              "(60000, 10)"
            ]
          },
          "metadata": {},
          "execution_count": 13
        }
      ]
    },
    {
      "cell_type": "code",
      "source": [
        "x = 24\n",
        "print(f'hi{x}')"
      ],
      "metadata": {
        "colab": {
          "base_uri": "https://localhost:8080/"
        },
        "id": "S0u_r25Hm_iB",
        "outputId": "1df41a82-1d9d-4d43-af6d-02b7f012e4ca"
      },
      "execution_count": 14,
      "outputs": [
        {
          "output_type": "stream",
          "name": "stdout",
          "text": [
            "hi24\n"
          ]
        }
      ]
    },
    {
      "cell_type": "code",
      "source": [
        "instances = x_train.shape[0]\n",
        "attributes = x_train.shape[1]\n",
        "hidden_nodes = 1568\n",
        "output_labels = 10\n",
        "\n",
        "wh = np.random.rand(attributes,hidden_nodes)\n",
        "bh = np.random.randn(hidden_nodes)\n",
        "\n",
        "wo = np.random.rand(hidden_nodes,output_labels)\n",
        "bo = np.random.randn(output_labels)\n",
        "lr = 0.01\n",
        "\n",
        "error_cost = []\n",
        "\n",
        "for epoch in range(70):\n",
        "############# feedforward\n",
        "\n",
        "    # Phase 1\n",
        "    zh = np.dot(x_train, wh) + bh\n",
        "    ah = sigmoid(zh)\n",
        "\n",
        "    # Phase 2\n",
        "    zo = np.dot(ah, wo) + bo\n",
        "    ao = stable_softmax(zo)\n",
        "\n",
        "########## Back Propagation\n",
        "\n",
        "########## Phase 1\n",
        "\n",
        "    dcost_dzo = ao - y_train\n",
        "    dzo_dwo = ah\n",
        "\n",
        "    dcost_wo = np.dot(dzo_dwo.T, dcost_dzo)\n",
        "\n",
        "    dcost_bo = dcost_dzo\n",
        "\n",
        "########## Phases 2\n",
        "\n",
        "    dzo_dah = wo\n",
        "    dcost_dah = np.dot(dcost_dzo , dzo_dah.T)\n",
        "    dah_dzh = sigmoid_der(zh)\n",
        "    dzh_dwh = x_train\n",
        "    dcost_wh = np.dot(dzh_dwh.T, dah_dzh * dcost_dah)\n",
        "\n",
        "    dcost_bh = dcost_dah * dah_dzh\n",
        "\n",
        "    # Update Weights ================\n",
        "\n",
        "    wh -= lr * dcost_wh\n",
        "    bh -= lr * dcost_bh.sum(axis=0)\n",
        "\n",
        "    wo -= lr * dcost_wo\n",
        "    bo -= lr * dcost_bo.sum(axis=0)\n",
        "    print(f'epoch {epoch}')\n",
        "\n",
        "    \n",
        "    loss = np.sum(-y_train * np.log(ao))\n",
        "    print('Loss function value: ', loss)\n",
        "    error_cost.append(loss)"
      ],
      "metadata": {
        "colab": {
          "base_uri": "https://localhost:8080/"
        },
        "id": "Zt4UFoz_eAHU",
        "outputId": "59fe5c71-875e-486a-9bdf-42540f781210"
      },
      "execution_count": 27,
      "outputs": [
        {
          "output_type": "stream",
          "name": "stdout",
          "text": [
            "epoch 0\n",
            "Loss function value:  1639282.864445869\n",
            "epoch 1\n",
            "Loss function value:  1541785.140693523\n",
            "epoch 2\n",
            "Loss function value:  1415684.0814017565\n",
            "epoch 3\n",
            "Loss function value:  1326418.2067486786\n",
            "epoch 4\n",
            "Loss function value:  1238101.6264355602\n",
            "epoch 5\n",
            "Loss function value:  1097042.9420964036\n",
            "epoch 6\n",
            "Loss function value:  987204.1270232869\n",
            "epoch 7\n",
            "Loss function value:  891348.9065194365\n",
            "epoch 8\n",
            "Loss function value:  856873.1936918487\n",
            "epoch 9\n",
            "Loss function value:  818643.577958346\n",
            "epoch 10\n",
            "Loss function value:  804217.6028409855\n",
            "epoch 11\n",
            "Loss function value:  799133.9544431493\n",
            "epoch 12\n",
            "Loss function value:  798560.2848206708\n",
            "epoch 13\n",
            "Loss function value:  798364.9107361959\n",
            "epoch 14\n",
            "Loss function value:  798308.784335375\n",
            "epoch 15\n",
            "Loss function value:  798289.8984057176\n",
            "epoch 16\n",
            "Loss function value:  798283.9691904394\n",
            "epoch 17\n",
            "Loss function value:  798282.0213072529\n",
            "epoch 18\n",
            "Loss function value:  798281.3964553224\n",
            "epoch 19\n",
            "Loss function value:  798281.1931483353\n",
            "epoch 20\n",
            "Loss function value:  798281.1275170802\n",
            "epoch 21\n",
            "Loss function value:  798281.1062336483\n",
            "epoch 22\n",
            "Loss function value:  798281.0993493521\n",
            "epoch 23\n",
            "Loss function value:  798281.0971192995\n",
            "epoch 24\n",
            "Loss function value:  798281.0963975118\n",
            "epoch 25\n",
            "Loss function value:  798281.0961637874\n",
            "epoch 26\n",
            "Loss function value:  798281.0960881243\n",
            "epoch 27\n",
            "Loss function value:  798281.0960636259\n",
            "epoch 28\n",
            "Loss function value:  798281.096055695\n",
            "epoch 29\n",
            "Loss function value:  798281.096053127\n",
            "epoch 30\n",
            "Loss function value:  798281.0960522939\n",
            "epoch 31\n",
            "Loss function value:  798281.0960520253\n",
            "epoch 32\n",
            "Loss function value:  798281.096051939\n",
            "epoch 33\n",
            "Loss function value:  798281.0960519111\n",
            "epoch 34\n",
            "Loss function value:  798281.096051901\n",
            "epoch 35\n",
            "Loss function value:  798281.0960518994\n",
            "epoch 36\n",
            "Loss function value:  798281.0960518972\n",
            "epoch 37\n",
            "Loss function value:  798281.0960518981\n",
            "epoch 38\n",
            "Loss function value:  798281.0960518962\n",
            "epoch 39\n",
            "Loss function value:  798281.0960518962\n",
            "epoch 40\n",
            "Loss function value:  798281.0960518975\n",
            "epoch 41\n",
            "Loss function value:  798281.0960518975\n",
            "epoch 42\n",
            "Loss function value:  798281.0960518961\n",
            "epoch 43\n",
            "Loss function value:  798281.0960518972\n",
            "epoch 44\n",
            "Loss function value:  798281.0960518975\n",
            "epoch 45\n",
            "Loss function value:  798281.0960518972\n",
            "epoch 46\n",
            "Loss function value:  798281.0960518961\n",
            "epoch 47\n",
            "Loss function value:  798281.0960518972\n",
            "epoch 48\n",
            "Loss function value:  798281.0960518968\n",
            "epoch 49\n",
            "Loss function value:  798281.0960518975\n",
            "epoch 50\n",
            "Loss function value:  798281.0960518972\n",
            "epoch 51\n",
            "Loss function value:  798281.0960518968\n",
            "epoch 52\n",
            "Loss function value:  798281.0960518961\n",
            "epoch 53\n",
            "Loss function value:  798281.0960518968\n",
            "epoch 54\n",
            "Loss function value:  798281.0960518975\n",
            "epoch 55\n",
            "Loss function value:  798281.0960518973\n",
            "epoch 56\n",
            "Loss function value:  798281.0960518961\n",
            "epoch 57\n",
            "Loss function value:  798281.0960518961\n",
            "epoch 58\n",
            "Loss function value:  798281.0960518968\n",
            "epoch 59\n",
            "Loss function value:  798281.0960518975\n",
            "epoch 60\n",
            "Loss function value:  798281.0960518968\n",
            "epoch 61\n",
            "Loss function value:  798281.0960518975\n",
            "epoch 62\n",
            "Loss function value:  798281.0960518975\n",
            "epoch 63\n",
            "Loss function value:  798281.0960518972\n",
            "epoch 64\n",
            "Loss function value:  798281.0960518972\n",
            "epoch 65\n",
            "Loss function value:  798281.0960518973\n",
            "epoch 66\n",
            "Loss function value:  798281.0960518975\n",
            "epoch 67\n",
            "Loss function value:  798281.0960518961\n",
            "epoch 68\n",
            "Loss function value:  798281.0960518968\n",
            "epoch 69\n",
            "Loss function value:  798281.0960518972\n"
          ]
        }
      ]
    },
    {
      "cell_type": "code",
      "source": [
        "x_test = np.array(pd_test.drop('label',axis=1))/255"
      ],
      "metadata": {
        "id": "awc_vyZAnbwB"
      },
      "execution_count": 31,
      "outputs": []
    },
    {
      "cell_type": "code",
      "source": [
        "y2 = np.array(pd_test['label'])"
      ],
      "metadata": {
        "id": "CMN9SjzRr1CM"
      },
      "execution_count": 32,
      "outputs": []
    },
    {
      "cell_type": "code",
      "source": [
        "x_test.shape"
      ],
      "metadata": {
        "colab": {
          "base_uri": "https://localhost:8080/"
        },
        "id": "1Hn8kkBC7SRM",
        "outputId": "a691ba1c-44da-4ae1-c2f5-85cc998163b0"
      },
      "execution_count": 33,
      "outputs": [
        {
          "output_type": "execute_result",
          "data": {
            "text/plain": [
              "(10000, 784)"
            ]
          },
          "metadata": {},
          "execution_count": 33
        }
      ]
    },
    {
      "cell_type": "code",
      "source": [
        "y_test = np.zeros((10000,10))"
      ],
      "metadata": {
        "id": "_V-lKBs0-NYx"
      },
      "execution_count": 34,
      "outputs": []
    },
    {
      "cell_type": "code",
      "source": [
        "for i in range(10000):\n",
        "  classs = y2[i]\n",
        "  y_test[i][classs] = 1"
      ],
      "metadata": {
        "id": "Siycr0387SUf"
      },
      "execution_count": 35,
      "outputs": []
    },
    {
      "cell_type": "code",
      "source": [
        "    zh1 = np.dot(x_test, wh) + bh\n",
        "    ah1 = sigmoid(zh1)\n",
        "\n",
        "    # Phase 2\n",
        "    zo1 = np.dot(ah1, wo) + bo\n",
        "    ao1 = stable_softmax(zo1)"
      ],
      "metadata": {
        "id": "500fgo0WCGTR"
      },
      "execution_count": 36,
      "outputs": []
    },
    {
      "cell_type": "code",
      "source": [
        "ao1.shape"
      ],
      "metadata": {
        "colab": {
          "base_uri": "https://localhost:8080/"
        },
        "id": "F8Ma9No-Ge17",
        "outputId": "eeeb3d6c-d2cf-4ce1-befd-9e97f9a53905"
      },
      "execution_count": 51,
      "outputs": [
        {
          "output_type": "execute_result",
          "data": {
            "text/plain": [
              "(10000, 10)"
            ]
          },
          "metadata": {},
          "execution_count": 51
        }
      ]
    },
    {
      "cell_type": "code",
      "source": [
        "ao1"
      ],
      "metadata": {
        "colab": {
          "base_uri": "https://localhost:8080/"
        },
        "id": "t-AtBBOHIYXT",
        "outputId": "9605845d-30d4-442c-f482-cc488f5a78f6"
      },
      "execution_count": 52,
      "outputs": [
        {
          "output_type": "execute_result",
          "data": {
            "text/plain": [
              "array([[1.00069370e-05, 1.00069370e-05, 1.00069370e-05, ...,\n",
              "        1.00069371e-05, 1.00069370e-05, 1.00069371e-05],\n",
              "       [1.00069370e-05, 1.00069370e-05, 1.00069370e-05, ...,\n",
              "        1.00069371e-05, 1.00069370e-05, 1.00069371e-05],\n",
              "       [1.00069370e-05, 1.00069370e-05, 1.00069370e-05, ...,\n",
              "        1.00069371e-05, 1.00069370e-05, 1.00069371e-05],\n",
              "       ...,\n",
              "       [1.00069370e-05, 1.00069370e-05, 1.00069370e-05, ...,\n",
              "        1.00069371e-05, 1.00069370e-05, 1.00069371e-05],\n",
              "       [1.00069370e-05, 1.00069370e-05, 1.00069370e-05, ...,\n",
              "        1.00069371e-05, 1.00069370e-05, 1.00069371e-05],\n",
              "       [1.00069370e-05, 1.00069370e-05, 1.00069370e-05, ...,\n",
              "        1.00069371e-05, 1.00069370e-05, 1.00069371e-05]])"
            ]
          },
          "metadata": {},
          "execution_count": 52
        }
      ]
    },
    {
      "cell_type": "code",
      "source": [
        "y_final = np.zeros((10000,1))"
      ],
      "metadata": {
        "id": "U_zfrUZ1GjOK"
      },
      "execution_count": 45,
      "outputs": []
    },
    {
      "cell_type": "code",
      "source": [
        "y_final[0][0]"
      ],
      "metadata": {
        "colab": {
          "base_uri": "https://localhost:8080/"
        },
        "id": "Vb9yCnHXH5UJ",
        "outputId": "2a3ee793-ec3d-4861-f841-1901a15da494"
      },
      "execution_count": 47,
      "outputs": [
        {
          "output_type": "execute_result",
          "data": {
            "text/plain": [
              "0.0"
            ]
          },
          "metadata": {},
          "execution_count": 47
        }
      ]
    },
    {
      "cell_type": "code",
      "source": [
        "for i in range(10000):\n",
        "  y_final[i][0] = np.argmax(ao1[i])"
      ],
      "metadata": {
        "id": "XDCzEoufHHJP"
      },
      "execution_count": 48,
      "outputs": []
    },
    {
      "cell_type": "code",
      "source": [
        "y_final."
      ],
      "metadata": {
        "colab": {
          "base_uri": "https://localhost:8080/",
          "height": 166
        },
        "id": "TrXsOJ9cIQC8",
        "outputId": "b3d67080-a78c-4b4d-b972-9b82326759be"
      },
      "execution_count": 50,
      "outputs": [
        {
          "output_type": "error",
          "ename": "AttributeError",
          "evalue": "ignored",
          "traceback": [
            "\u001b[0;31m---------------------------------------------------------------------------\u001b[0m",
            "\u001b[0;31mAttributeError\u001b[0m                            Traceback (most recent call last)",
            "\u001b[0;32m<ipython-input-50-5d0cfa636739>\u001b[0m in \u001b[0;36m<module>\u001b[0;34m()\u001b[0m\n\u001b[0;32m----> 1\u001b[0;31m \u001b[0my_final\u001b[0m\u001b[0;34m.\u001b[0m\u001b[0mnunique\u001b[0m\u001b[0;34m(\u001b[0m\u001b[0;34m)\u001b[0m\u001b[0;34m\u001b[0m\u001b[0;34m\u001b[0m\u001b[0m\n\u001b[0m",
            "\u001b[0;31mAttributeError\u001b[0m: 'numpy.ndarray' object has no attribute 'nunique'"
          ]
        }
      ]
    },
    {
      "cell_type": "code",
      "source": [
        ""
      ],
      "metadata": {
        "id": "q198o0PcIRUR"
      },
      "execution_count": null,
      "outputs": []
    }
  ]
}