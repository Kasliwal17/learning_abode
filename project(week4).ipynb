{
  "nbformat": 4,
  "nbformat_minor": 0,
  "metadata": {
    "colab": {
      "name": "Untitled1.ipynb",
      "provenance": [],
      "collapsed_sections": []
    },
    "kernelspec": {
      "name": "python3",
      "display_name": "Python 3"
    },
    "language_info": {
      "name": "python"
    }
  },
  "cells": [
    {
      "cell_type": "code",
      "execution_count": 1,
      "metadata": {
        "id": "O_SRz1-2j-A7"
      },
      "outputs": [],
      "source": [
        "import pandas as pd\n",
        "import numpy as np\n",
        "import matplotlib.pyplot as plt\n",
        "import seaborn as sns\n",
        "import random\n",
        "% matplotlib inline"
      ]
    },
    {
      "cell_type": "code",
      "source": [
        "from google.colab import drive\n",
        "\n",
        "drive.mount('/content/drive')"
      ],
      "metadata": {
        "colab": {
          "base_uri": "https://localhost:8080/"
        },
        "id": "s-mAI45NkSnF",
        "outputId": "34b565e7-bf4c-4d38-f68c-93d5784b6bc8"
      },
      "execution_count": 2,
      "outputs": [
        {
          "output_type": "stream",
          "name": "stdout",
          "text": [
            "Mounted at /content/drive\n"
          ]
        }
      ]
    },
    {
      "cell_type": "code",
      "source": [
        "pd_train = pd.read_csv('/content/drive/MyDrive/Datasets/fashion-mnist_train.csv')"
      ],
      "metadata": {
        "id": "WdI7M2pDkYda"
      },
      "execution_count": 3,
      "outputs": []
    },
    {
      "cell_type": "code",
      "source": [
        "pd_test = pd.read_csv('/content/drive/MyDrive/Datasets/fashion-mnist_test.csv')"
      ],
      "metadata": {
        "id": "sL4yiSY6kykn"
      },
      "execution_count": 4,
      "outputs": []
    },
    {
      "cell_type": "code",
      "source": [
        "X_train = np.array(pd_train.drop('label',axis=1)).T/255\n",
        "X_test =np.array(pd_test.drop('label',axis=1)).T/255"
      ],
      "metadata": {
        "id": "EtMgTIZzvjOn"
      },
      "execution_count": 5,
      "outputs": []
    },
    {
      "cell_type": "code",
      "source": [
        "Y_train = np.zeros((10,60000))\n",
        "y = np.array(pd_train['label'])\n",
        "for i in range(60000):\n",
        "  classs = y[i]\n",
        "  Y_train[:,i][classs] = 1\n",
        "Y_train.shape"
      ],
      "metadata": {
        "colab": {
          "base_uri": "https://localhost:8080/"
        },
        "id": "tUIcGQwPyhwQ",
        "outputId": "f9f84d6c-3af1-461a-d85d-44bb7d8f6bdf"
      },
      "execution_count": 6,
      "outputs": [
        {
          "output_type": "execute_result",
          "data": {
            "text/plain": [
              "(10, 60000)"
            ]
          },
          "metadata": {},
          "execution_count": 6
        }
      ]
    },
    {
      "cell_type": "code",
      "source": [
        "Y_test = np.zeros((10,10000))\n",
        "y1 = np.array(pd_test['label'])\n",
        "for i in range(10000):\n",
        "  classs = y1[i]\n",
        "  Y_train[:,i][classs] = 1\n",
        "Y_train.shape"
      ],
      "metadata": {
        "colab": {
          "base_uri": "https://localhost:8080/"
        },
        "id": "heqPgKDgymUm",
        "outputId": "104d54c9-4c50-43c7-b999-436c55ee7ee8"
      },
      "execution_count": 7,
      "outputs": [
        {
          "output_type": "execute_result",
          "data": {
            "text/plain": [
              "(10, 60000)"
            ]
          },
          "metadata": {},
          "execution_count": 7
        }
      ]
    },
    {
      "cell_type": "code",
      "source": [
        "print(\"shape of X_train :\", X_train.shape)\n",
        "print(\"shape of Y_train :\", Y_train.shape)\n",
        "print(\"shape of X_test :\", X_test.shape)\n",
        "print(\"shape of Y_test :\", Y_test.shape)"
      ],
      "metadata": {
        "colab": {
          "base_uri": "https://localhost:8080/"
        },
        "id": "JfQrvzPvv-LD",
        "outputId": "b40065bc-d680-491e-e749-13cc604736ea"
      },
      "execution_count": 8,
      "outputs": [
        {
          "output_type": "stream",
          "name": "stdout",
          "text": [
            "shape of X_train : (784, 60000)\n",
            "shape of Y_train : (10, 60000)\n",
            "shape of X_test : (784, 10000)\n",
            "shape of Y_test : (10, 10000)\n"
          ]
        }
      ]
    },
    {
      "cell_type": "code",
      "source": [
        ""
      ],
      "metadata": {
        "id": "RL95UTj9yPm_"
      },
      "execution_count": 8,
      "outputs": []
    },
    {
      "cell_type": "code",
      "source": [
        "index = random.randrange(0, X_train.shape[1])\n",
        "plt.imshow(X_train[:, index].reshape(28, 28), cmap = 'gray')\n",
        "plt.show()"
      ],
      "metadata": {
        "colab": {
          "base_uri": "https://localhost:8080/",
          "height": 265
        },
        "id": "cCfin0xqwISu",
        "outputId": "70539232-ad9e-4f22-b22c-b888c3e41076"
      },
      "execution_count": 9,
      "outputs": [
        {
          "output_type": "display_data",
          "data": {
            "image/png": "[encoded data removed]",
            "text/plain": [
              "<Figure size 432x288 with 1 Axes>"
            ]
          },
          "metadata": {
            "needs_background": "light"
          }
        }
      ]
    },
    {
      "cell_type": "code",
      "source": [
        "def tanh(x):\n",
        "    return np.tanh(x)\n",
        "\n",
        "def relu(x):\n",
        "    return np.maximum(x, 0.001*x)\n",
        "\n",
        "def softmax(x):\n",
        "    expX = np.exp(x)\n",
        "    return expX/np.sum(expX, axis = 0)\n",
        "def derivative_tanh(x):\n",
        "    return (1 - np.power(np.tanh(x), 2))\n",
        "\n",
        "def derivative_relu(x):\n",
        "    return np.array(x > 0, dtype = np.float32)"
      ],
      "metadata": {
        "id": "MU4i0McNwJLn"
      },
      "execution_count": 10,
      "outputs": []
    },
    {
      "cell_type": "code",
      "source": [
        "def initialize_parameters(n_x, n_h, n_y):\n",
        "    w1 = np.random.randn(n_h, n_x)*0.01\n",
        "    b1 = np.zeros((n_h, 1))\n",
        "    \n",
        "    w2 = np.random.randn(n_y, n_h)*0.01\n",
        "    b2 = np.zeros((n_y, 1))\n",
        "    \n",
        "    parameters = {\n",
        "        \"w1\" : w1,\n",
        "        \"b1\" : b1,\n",
        "        \"w2\" : w2,\n",
        "        \"b2\" : b2\n",
        "    }\n",
        "    \n",
        "    return parameters"
      ],
      "metadata": {
        "id": "gNM5YXdzwO-T"
      },
      "execution_count": 11,
      "outputs": []
    },
    {
      "cell_type": "code",
      "source": [
        "def forward_propagation(x, parameters):\n",
        "    \n",
        "    w1 = parameters['w1']\n",
        "    b1 = parameters['b1']\n",
        "    w2 = parameters['w2']\n",
        "    b2 = parameters['b2']\n",
        "    \n",
        "    z1 = np.dot(w1, x) + b1\n",
        "    a1 = relu(z1)\n",
        "    \n",
        "    z2 = np.dot(w2, a1) + b2\n",
        "    a2 = softmax(z2)\n",
        "    \n",
        "    forward_cache = {\n",
        "        \"z1\" : z1,\n",
        "        \"a1\" : a1,\n",
        "        \"z2\" : z2,\n",
        "        \"a2\" : a2\n",
        "    }\n",
        "    \n",
        "    return forward_cache"
      ],
      "metadata": {
        "id": "zs0eUZ4wwlNG"
      },
      "execution_count": 32,
      "outputs": []
    },
    {
      "cell_type": "code",
      "source": [
        "def cost_function(a2, y):\n",
        "    m = y.shape[1]\n",
        "    \n",
        "    cost = -(1/m)*np.sum(y*np.log(a2))\n",
        "    \n",
        "    #cost = -(1/m)*np.sum(np.sum(y*np.log(a2, 0), 1))\n",
        "    \n",
        "    return cost"
      ],
      "metadata": {
        "id": "dpbH34MYwssn"
      },
      "execution_count": 13,
      "outputs": []
    },
    {
      "cell_type": "code",
      "source": [
        "def backward_prop(x, y, parameters, forward_cache):\n",
        "    \n",
        "    w1 = parameters['w1']\n",
        "    b1 = parameters['b1']\n",
        "    w2 = parameters['w2']\n",
        "    b2 = parameters['b2']\n",
        "    \n",
        "    a1 = forward_cache['a1']\n",
        "    a2 = forward_cache['a2']\n",
        "    \n",
        "    m = x.shape[1]\n",
        "    \n",
        "    dz2 = (a2 - y)\n",
        "    dw2 = (1/m)*np.dot(dz2, a1.T)\n",
        "    db2 = (1/m)*np.sum(dz2, axis = 1, keepdims = True)\n",
        "    \n",
        "    dz1 = (1/m)*np.dot(w2.T, dz2)*derivative_relu(a1)\n",
        "    dw1 = (1/m)*np.dot(dz1, x.T)\n",
        "    db1 = (1/m)*np.sum(dz1, axis = 1, keepdims = True)\n",
        "    \n",
        "    gradients = {\n",
        "        \"dw1\" : dw1,\n",
        "        \"db1\" : db1,\n",
        "        \"dw2\" : dw2,\n",
        "        \"db2\" : db2\n",
        "    }\n",
        "    \n",
        "    return gradients"
      ],
      "metadata": {
        "id": "LDZBPrEXwvpJ"
      },
      "execution_count": 31,
      "outputs": []
    },
    {
      "cell_type": "code",
      "source": [
        "def update_parameters(parameters, gradients, learning_rate):\n",
        "    \n",
        "    w1 = parameters['w1']\n",
        "    b1 = parameters['b1']\n",
        "    w2 = parameters['w2']\n",
        "    b2 = parameters['b2']\n",
        "    \n",
        "    dw1 = gradients['dw1']\n",
        "    db1 = gradients['db1']\n",
        "    dw2 = gradients['dw2']\n",
        "    db2 = gradients['db2']\n",
        "    \n",
        "    w1 = w1 - learning_rate*dw1\n",
        "    b1 = b1 - learning_rate*db1\n",
        "    w2 = w2 - learning_rate*dw2\n",
        "    b2 = b2 - learning_rate*db2\n",
        "    \n",
        "    parameters = {\n",
        "        \"w1\" : w1,\n",
        "        \"b1\" : b1,\n",
        "        \"w2\" : w2,\n",
        "        \"b2\" : b2\n",
        "    }\n",
        "    \n",
        "    return parameters"
      ],
      "metadata": {
        "id": "QWghcFTkw1EJ"
      },
      "execution_count": 15,
      "outputs": []
    },
    {
      "cell_type": "code",
      "source": [
        "def model(x, y, n_h, learning_rate, iterations):\n",
        "    \n",
        "    n_x = x.shape[0]\n",
        "    n_y = y.shape[0]\n",
        "    \n",
        "    cost_list = []\n",
        "    \n",
        "    parameters = initialize_parameters(n_x, n_h, n_y)\n",
        "    \n",
        "    for i in range(iterations):\n",
        "        \n",
        "        forward_cache = forward_propagation(x, parameters)\n",
        "        \n",
        "        cost = cost_function(forward_cache['a2'], y)\n",
        "        \n",
        "        gradients = backward_prop(x, y, parameters, forward_cache)\n",
        "        \n",
        "        parameters = update_parameters(parameters, gradients, learning_rate)\n",
        "        \n",
        "        cost_list.append(cost)\n",
        "        \n",
        "        if(i%(20) == 0):\n",
        "          print(\"Cost after\", i, \"iterations is :\", cost)\n",
        "        \n",
        "    return parameters, cost_list"
      ],
      "metadata": {
        "id": "Jl9z_U48w1jr"
      },
      "execution_count": 36,
      "outputs": []
    },
    {
      "cell_type": "code",
      "source": [
        "iterations = 600\n",
        "n_h = 10\n",
        "learning_rate = 2.0\n",
        "Parameters, Cost_list = model(X_train, Y_train, n_h = n_h, learning_rate = learning_rate, iterations = iterations)"
      ],
      "metadata": {
        "colab": {
          "base_uri": "https://localhost:8080/"
        },
        "id": "jOuEh00mw8R5",
        "outputId": "ddd76950-9343-4646-e3e9-e8620f0ad4b8"
      },
      "execution_count": 37,
      "outputs": [
        {
          "output_type": "stream",
          "name": "stdout",
          "text": [
            "Cost after 0 iterations is : 2.6481317465018237\n",
            "Cost after 20 iterations is : 2.594160482329562\n",
            "Cost after 40 iterations is : 2.54124491156086\n",
            "Cost after 60 iterations is : 2.4861222917247914\n",
            "Cost after 80 iterations is : 2.4274925076642204\n",
            "Cost after 100 iterations is : 2.3655687643488426\n",
            "Cost after 120 iterations is : 2.3016870706486476\n",
            "Cost after 140 iterations is : 2.237686732724199\n",
            "Cost after 160 iterations is : 2.1754571479180616\n",
            "Cost after 180 iterations is : 2.1165023325835257\n",
            "Cost after 200 iterations is : 2.061861090125143\n",
            "Cost after 220 iterations is : 2.012175169226622\n",
            "Cost after 240 iterations is : 1.9677128048116235\n",
            "Cost after 260 iterations is : 1.9284834090052467\n",
            "Cost after 280 iterations is : 1.8942769043332235\n",
            "Cost after 300 iterations is : 1.8647564646098986\n",
            "Cost after 320 iterations is : 1.8394847414818352\n",
            "Cost after 340 iterations is : 1.818004553555233\n",
            "Cost after 360 iterations is : 1.7998732120628382\n",
            "Cost after 380 iterations is : 1.7846735308142558\n",
            "Cost after 400 iterations is : 1.7720538612532564\n",
            "Cost after 420 iterations is : 1.7616580055073632\n",
            "Cost after 440 iterations is : 1.7531585123691713\n",
            "Cost after 460 iterations is : 1.7462503812123134\n",
            "Cost after 480 iterations is : 1.7406388328497515\n",
            "Cost after 500 iterations is : 1.7360268789351365\n",
            "Cost after 520 iterations is : 1.7321075554197314\n",
            "Cost after 540 iterations is : 1.7286280034129122\n",
            "Cost after 560 iterations is : 1.7253288454264697\n",
            "Cost after 580 iterations is : 1.7220102420999637\n"
          ]
        }
      ]
    },
    {
      "cell_type": "code",
      "source": [
        "t = np.arange(0, iterations)\n",
        "plt.plot(t, Cost_list)\n",
        "plt.show()"
      ],
      "metadata": {
        "colab": {
          "base_uri": "https://localhost:8080/",
          "height": 265
        },
        "id": "E0_figR7xHrv",
        "outputId": "dfb17f80-aca5-4613-c638-dc3853bc4a90"
      },
      "execution_count": 38,
      "outputs": [
        {
          "output_type": "display_data",
          "data": {
            "image/png": "[encoded data removed]",
            "text/plain": [
              "<Figure size 432x288 with 1 Axes>"
            ]
          },
          "metadata": {
            "needs_background": "light"
          }
        }
      ]
    },
    {
      "cell_type": "code",
      "source": [
        "def accuracy(inp, labels, parameters):\n",
        "    forward_cache = forward_propagation(inp, parameters)\n",
        "    a_out = forward_cache['a2']   # containes propabilities with shape(10, 1)\n",
        "    \n",
        "    a_out = np.argmax(a_out, 0)  # 0 represents row wise \n",
        "    \n",
        "    labels = np.argmax(labels, 0)\n",
        "    \n",
        "    acc = np.mean(a_out == labels)*100\n",
        "    \n",
        "    return acc"
      ],
      "metadata": {
        "id": "qYbmqgwsxIq8"
      },
      "execution_count": 39,
      "outputs": []
    },
    {
      "cell_type": "code",
      "source": [
        "print(\"Accuracy of Train Dataset\", accuracy(X_train, Y_train, Parameters), \"%\")\n",
        "print(\"Accuracy of Test Dataset\", round(accuracy(X_test, Y_test, Parameters), 2), \"%\")"
      ],
      "metadata": {
        "colab": {
          "base_uri": "https://localhost:8080/"
        },
        "id": "Lq5sE6xXxPFQ",
        "outputId": "0b3252b5-a48d-4702-9400-baf31094427a"
      },
      "execution_count": 40,
      "outputs": [
        {
          "output_type": "stream",
          "name": "stdout",
          "text": [
            "Accuracy of Train Dataset 60.01166666666666 %\n",
            "Accuracy of Test Dataset 11.68 %\n"
          ]
        }
      ]
    },
    {
      "cell_type": "code",
      "source": [
        "idx = int(random.randrange(0,X_test.shape[1]))\n",
        "plt.imshow(X_test[:, idx].reshape((28,28)),cmap='gray')\n",
        "plt.show()\n",
        "\n",
        "cache = forward_propagation(X_test[:, idx].reshape(X_test[:, idx].shape[0], 1), Parameters)\n",
        "a_pred = cache['a2']  \n",
        "a_pred = np.argmax(a_pred, 0)\n",
        "\n",
        "print(\"Our model says it is :\", a_pred[0])"
      ],
      "metadata": {
        "colab": {
          "base_uri": "https://localhost:8080/",
          "height": 283
        },
        "id": "-2NkE5ASxRKS",
        "outputId": "eabd7208-37c3-4ffe-f6e6-ad88f75be7ad"
      },
      "execution_count": null,
      "outputs": [
        {
          "output_type": "display_data",
          "data": {
            "image/png": "[encoded data removed]",
            "text/plain": [
              "<Figure size 432x288 with 1 Axes>"
            ]
          },
          "metadata": {
            "needs_background": "light"
          }
        },
        {
          "output_type": "stream",
          "name": "stdout",
          "text": [
            "Our model says it is : 1\n"
          ]
        }
      ]
    },
    {
      "cell_type": "code",
      "source": [
        ""
      ],
      "metadata": {
        "id": "MkW0RRab4tRw"
      },
      "execution_count": null,
      "outputs": []
    }
  ]
}