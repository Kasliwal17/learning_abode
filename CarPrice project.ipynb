{
 "cells": [
  {
   "cell_type": "code",
   "execution_count": 224,
   "id": "d633c9d5",
   "metadata": {},
   "outputs": [],
   "source": [
    "import pandas as pd\n",
    "import numpy as np\n",
    "import matplotlib.pyplot as plt\n",
    "import math\n",
    "import sklearn.model_selection as mod\n",
    "\n",
    "%matplotlib inline"
   ]
  },
  {
   "cell_type": "code",
   "execution_count": 225,
   "id": "228f70d7",
   "metadata": {},
   "outputs": [],
   "source": [
    "raw_data = pd.read_csv('CarPrice_Assignment.csv')"
   ]
  },
  {
   "cell_type": "code",
   "execution_count": 226,
   "id": "2052bd6a",
   "metadata": {},
   "outputs": [],
   "source": [
    "raw_data.drop(['car_ID','CarName','enginelocation','fuelsystem'],axis = 1,inplace=True)"
   ]
  },
  {
   "cell_type": "markdown",
   "id": "ebc79d4f",
   "metadata": {},
   "source": [
    "I have dropped the above 4 columns as, car id is not imp. for regression,I dont know how to use car name in algorithm, engine location is dropped because there are very few case of rear engine and I don't know how the fuel system would effect the price of car"
   ]
  },
  {
   "cell_type": "code",
   "execution_count": 227,
   "id": "ac0d6de3",
   "metadata": {},
   "outputs": [
    {
     "data": {
      "text/plain": [
       "array([ 3,  1,  2,  0, -1, -2])"
      ]
     },
     "execution_count": 227,
     "metadata": {},
     "output_type": "execute_result"
    }
   ],
   "source": [
    "raw_data['symboling'].unique()"
   ]
  },
  {
   "cell_type": "code",
   "execution_count": 228,
   "id": "37269a15",
   "metadata": {},
   "outputs": [],
   "source": [
    "raw_data['symboling(3)'] = raw_data['symboling'].apply(lambda x : 1 if x==3 else 0)"
   ]
  },
  {
   "cell_type": "code",
   "execution_count": 229,
   "id": "9439ea5f",
   "metadata": {},
   "outputs": [],
   "source": [
    "raw_data['symboling(1)'] = raw_data['symboling'].apply(lambda x : 1 if x==1 else 0)"
   ]
  },
  {
   "cell_type": "code",
   "execution_count": 230,
   "id": "84610edb",
   "metadata": {},
   "outputs": [],
   "source": [
    "raw_data['symboling(2)'] = raw_data['symboling'].apply(lambda x : 1 if x==2 else 0)"
   ]
  },
  {
   "cell_type": "code",
   "execution_count": 231,
   "id": "71100317",
   "metadata": {},
   "outputs": [],
   "source": [
    "raw_data['symboling(0)'] = raw_data['symboling'].apply(lambda x : 1 if x==0 else 0)"
   ]
  },
  {
   "cell_type": "code",
   "execution_count": 232,
   "id": "5f0c38f7",
   "metadata": {},
   "outputs": [],
   "source": [
    "raw_data['symboling(-1)'] = raw_data['symboling'].apply(lambda x : 1 if x == -1 else 0)"
   ]
  },
  {
   "cell_type": "code",
   "execution_count": 233,
   "id": "7e21f018",
   "metadata": {},
   "outputs": [],
   "source": [
    "raw_data['symboling(-2)'] = raw_data['symboling'].apply(lambda x : 1 if x == -2 else 0)"
   ]
  },
  {
   "cell_type": "code",
   "execution_count": 234,
   "id": "88717434",
   "metadata": {},
   "outputs": [],
   "source": [
    "raw_data.drop(['symboling'],axis=1,inplace=True)"
   ]
  },
  {
   "cell_type": "code",
   "execution_count": null,
   "id": "a8ce142c",
   "metadata": {},
   "outputs": [],
   "source": []
  },
  {
   "cell_type": "code",
   "execution_count": null,
   "id": "f6ec08fc",
   "metadata": {},
   "outputs": [],
   "source": []
  },
  {
   "cell_type": "code",
   "execution_count": 235,
   "id": "d8ddb6d7",
   "metadata": {},
   "outputs": [
    {
     "data": {
      "text/plain": [
       "array(['gas', 'diesel'], dtype=object)"
      ]
     },
     "execution_count": 235,
     "metadata": {},
     "output_type": "execute_result"
    }
   ],
   "source": [
    "raw_data['fueltype'].unique()"
   ]
  },
  {
   "cell_type": "code",
   "execution_count": 236,
   "id": "5fdbc88d",
   "metadata": {},
   "outputs": [],
   "source": [
    "raw_data['fueltype'] = raw_data['fueltype'].apply(lambda x : 1 if x == 'gas' else 0)"
   ]
  },
  {
   "cell_type": "code",
   "execution_count": null,
   "id": "16a74164",
   "metadata": {},
   "outputs": [],
   "source": []
  },
  {
   "cell_type": "code",
   "execution_count": 237,
   "id": "4810fb13",
   "metadata": {},
   "outputs": [
    {
     "data": {
      "text/plain": [
       "array(['std', 'turbo'], dtype=object)"
      ]
     },
     "execution_count": 237,
     "metadata": {},
     "output_type": "execute_result"
    }
   ],
   "source": [
    "raw_data['aspiration'].unique()"
   ]
  },
  {
   "cell_type": "code",
   "execution_count": 238,
   "id": "54a795b3",
   "metadata": {},
   "outputs": [],
   "source": [
    "raw_data['aspiration'] = raw_data['aspiration'].apply(lambda x : 1 if x == 'turbo' else 0)"
   ]
  },
  {
   "cell_type": "code",
   "execution_count": null,
   "id": "e236a72a",
   "metadata": {},
   "outputs": [],
   "source": []
  },
  {
   "cell_type": "code",
   "execution_count": 239,
   "id": "45abf91b",
   "metadata": {},
   "outputs": [
    {
     "data": {
      "text/plain": [
       "array(['two', 'four'], dtype=object)"
      ]
     },
     "execution_count": 239,
     "metadata": {},
     "output_type": "execute_result"
    }
   ],
   "source": [
    "raw_data['doornumber'].unique()"
   ]
  },
  {
   "cell_type": "code",
   "execution_count": 240,
   "id": "f8503dfc",
   "metadata": {},
   "outputs": [],
   "source": [
    "raw_data['doornumber'] = raw_data['doornumber'].apply(lambda x : 1 if x == 'two' else 0)"
   ]
  },
  {
   "cell_type": "code",
   "execution_count": null,
   "id": "b1a4bbee",
   "metadata": {},
   "outputs": [],
   "source": []
  },
  {
   "cell_type": "code",
   "execution_count": 241,
   "id": "3786d274",
   "metadata": {},
   "outputs": [
    {
     "data": {
      "text/plain": [
       "array(['convertible', 'hatchback', 'sedan', 'wagon', 'hardtop'],\n",
       "      dtype=object)"
      ]
     },
     "execution_count": 241,
     "metadata": {},
     "output_type": "execute_result"
    }
   ],
   "source": [
    "raw_data['carbody'].unique()"
   ]
  },
  {
   "cell_type": "code",
   "execution_count": 242,
   "id": "9494c298",
   "metadata": {},
   "outputs": [],
   "source": [
    "raw_data['carbody(c)'] = raw_data['carbody'].apply(lambda x : 1 if x == 'convertible' else 0)"
   ]
  },
  {
   "cell_type": "code",
   "execution_count": 243,
   "id": "54539406",
   "metadata": {},
   "outputs": [],
   "source": [
    "raw_data['carbody(h)'] = raw_data['carbody'].apply(lambda x : 1 if x == 'hatchback' else 0)"
   ]
  },
  {
   "cell_type": "code",
   "execution_count": 244,
   "id": "6ba6e97c",
   "metadata": {},
   "outputs": [],
   "source": [
    "raw_data['carbody(s)'] = raw_data['carbody'].apply(lambda x : 1 if x == 'sedan' else 0)"
   ]
  },
  {
   "cell_type": "code",
   "execution_count": 245,
   "id": "fcc263fe",
   "metadata": {},
   "outputs": [],
   "source": [
    "raw_data['carbody(w)'] = raw_data['carbody'].apply(lambda x : 1 if x == 'wagon' else 0)"
   ]
  },
  {
   "cell_type": "code",
   "execution_count": 246,
   "id": "16ff5170",
   "metadata": {},
   "outputs": [],
   "source": [
    "raw_data['carbody(h)'] = raw_data['carbody'].apply(lambda x : 1 if x == 'hardtop' else 0)"
   ]
  },
  {
   "cell_type": "code",
   "execution_count": 173,
   "id": "4645f098",
   "metadata": {},
   "outputs": [],
   "source": [
    "raw_data.drop(['carbody'],axis=1,inplace=True)"
   ]
  },
  {
   "cell_type": "code",
   "execution_count": null,
   "id": "d578e9f5",
   "metadata": {},
   "outputs": [],
   "source": []
  },
  {
   "cell_type": "code",
   "execution_count": null,
   "id": "20b54816",
   "metadata": {},
   "outputs": [],
   "source": []
  },
  {
   "cell_type": "code",
   "execution_count": 174,
   "id": "af1ca412",
   "metadata": {},
   "outputs": [
    {
     "data": {
      "text/plain": [
       "array(['rwd', 'fwd', '4wd'], dtype=object)"
      ]
     },
     "execution_count": 174,
     "metadata": {},
     "output_type": "execute_result"
    }
   ],
   "source": [
    "raw_data['drivewheel'].unique()"
   ]
  },
  {
   "cell_type": "code",
   "execution_count": 175,
   "id": "5546f807",
   "metadata": {},
   "outputs": [],
   "source": [
    "raw_data['drivewheel(r)'] = raw_data['drivewheel'].apply(lambda x : 1 if x == 'rwd' else 0)"
   ]
  },
  {
   "cell_type": "code",
   "execution_count": 176,
   "id": "b53f89bd",
   "metadata": {},
   "outputs": [],
   "source": [
    "raw_data['drivewheel(f)'] = raw_data['drivewheel'].apply(lambda x : 1 if x == 'fwd' else 0)"
   ]
  },
  {
   "cell_type": "code",
   "execution_count": 177,
   "id": "0fb92fea",
   "metadata": {},
   "outputs": [],
   "source": [
    "raw_data['drivewheel(4)'] = raw_data['drivewheel'].apply(lambda x : 1 if x == '4wd' else 0)"
   ]
  },
  {
   "cell_type": "code",
   "execution_count": 178,
   "id": "0e595ae9",
   "metadata": {},
   "outputs": [],
   "source": [
    "raw_data.drop(['drivewheel'],axis=1,inplace=True)"
   ]
  },
  {
   "cell_type": "code",
   "execution_count": null,
   "id": "1b7f121e",
   "metadata": {},
   "outputs": [],
   "source": []
  },
  {
   "cell_type": "code",
   "execution_count": null,
   "id": "c6b316ab",
   "metadata": {},
   "outputs": [],
   "source": []
  },
  {
   "cell_type": "code",
   "execution_count": 179,
   "id": "c215cde1",
   "metadata": {},
   "outputs": [
    {
     "data": {
      "text/plain": [
       "array(['dohc', 'ohcv', 'ohc', 'l', 'rotor', 'ohcf', 'dohcv'], dtype=object)"
      ]
     },
     "execution_count": 179,
     "metadata": {},
     "output_type": "execute_result"
    }
   ],
   "source": [
    "raw_data['enginetype'].unique()"
   ]
  },
  {
   "cell_type": "code",
   "execution_count": 180,
   "id": "e3fc1f28",
   "metadata": {},
   "outputs": [],
   "source": [
    "raw_data['enginetype(d)'] = raw_data['enginetype'].apply(lambda x : 1 if x == 'dohc' else 0)"
   ]
  },
  {
   "cell_type": "code",
   "execution_count": 181,
   "id": "ebda3329",
   "metadata": {},
   "outputs": [],
   "source": [
    "raw_data['enginetype(ov)'] = raw_data['enginetype'].apply(lambda x : 1 if x == 'ohcv' else 0)"
   ]
  },
  {
   "cell_type": "code",
   "execution_count": 182,
   "id": "5f8496ea",
   "metadata": {},
   "outputs": [],
   "source": [
    "raw_data['enginetype(o)'] = raw_data['enginetype'].apply(lambda x : 1 if x == 'ohc' else 0)"
   ]
  },
  {
   "cell_type": "code",
   "execution_count": 183,
   "id": "547566f3",
   "metadata": {},
   "outputs": [],
   "source": [
    "raw_data['enginetype(l)'] = raw_data['enginetype'].apply(lambda x : 1 if x == 'l' else 0)"
   ]
  },
  {
   "cell_type": "code",
   "execution_count": 184,
   "id": "48160dcd",
   "metadata": {},
   "outputs": [],
   "source": [
    "raw_data['enginetype(r)'] = raw_data['enginetype'].apply(lambda x : 1 if x == 'rotor' else 0)"
   ]
  },
  {
   "cell_type": "code",
   "execution_count": 185,
   "id": "8c731f7e",
   "metadata": {},
   "outputs": [],
   "source": [
    "raw_data['enginetype(of)'] = raw_data['enginetype'].apply(lambda x : 1 if x == 'ohfc' else 0)"
   ]
  },
  {
   "cell_type": "code",
   "execution_count": 186,
   "id": "b3d9ab6d",
   "metadata": {},
   "outputs": [],
   "source": [
    "raw_data['enginetype(dv)'] = raw_data['enginetype'].apply(lambda x : 1 if x == 'dohcv' else 0)"
   ]
  },
  {
   "cell_type": "code",
   "execution_count": 187,
   "id": "285cb357",
   "metadata": {},
   "outputs": [],
   "source": [
    "raw_data.drop(['enginetype'],axis=1,inplace=True)"
   ]
  },
  {
   "cell_type": "code",
   "execution_count": 188,
   "id": "ed5656b9",
   "metadata": {},
   "outputs": [
    {
     "data": {
      "text/plain": [
       "(205, 38)"
      ]
     },
     "execution_count": 188,
     "metadata": {},
     "output_type": "execute_result"
    }
   ],
   "source": [
    "raw_data.shape"
   ]
  },
  {
   "cell_type": "code",
   "execution_count": null,
   "id": "c93b8057",
   "metadata": {},
   "outputs": [],
   "source": []
  },
  {
   "cell_type": "code",
   "execution_count": 189,
   "id": "9fb94c4f",
   "metadata": {},
   "outputs": [
    {
     "data": {
      "text/plain": [
       "array(['four', 'six', 'five', 'three', 'twelve', 'two', 'eight'],\n",
       "      dtype=object)"
      ]
     },
     "execution_count": 189,
     "metadata": {},
     "output_type": "execute_result"
    }
   ],
   "source": [
    "raw_data['cylindernumber'].unique()"
   ]
  },
  {
   "cell_type": "code",
   "execution_count": 190,
   "id": "b626dc3f",
   "metadata": {},
   "outputs": [],
   "source": [
    "def update_cn(x):\n",
    "    if x == 'four':\n",
    "        return 4\n",
    "    elif x == 'six':\n",
    "        return 6\n",
    "    elif x == 'five':\n",
    "        return 5\n",
    "    elif x == 'three':\n",
    "        return 3\n",
    "    elif x == 'twelve':\n",
    "        return 12\n",
    "    elif x == 'two':\n",
    "        return 2\n",
    "    else:\n",
    "        return 8"
   ]
  },
  {
   "cell_type": "code",
   "execution_count": 191,
   "id": "a659eaaa",
   "metadata": {},
   "outputs": [],
   "source": [
    "\n",
    "raw_data['cylindernumber'] = raw_data['cylindernumber'].apply(update_cn)"
   ]
  },
  {
   "cell_type": "code",
   "execution_count": null,
   "id": "e0e11932",
   "metadata": {},
   "outputs": [],
   "source": []
  },
  {
   "cell_type": "markdown",
   "id": "1b505286",
   "metadata": {},
   "source": [
    "The below commands are to normalize the features for linear regression"
   ]
  },
  {
   "cell_type": "code",
   "execution_count": 192,
   "id": "2f5bda27",
   "metadata": {},
   "outputs": [],
   "source": [
    "raw_data['wheelbase'] = raw_data['wheelbase']/raw_data['wheelbase'].mean()"
   ]
  },
  {
   "cell_type": "code",
   "execution_count": 193,
   "id": "bcb8ed0c",
   "metadata": {},
   "outputs": [],
   "source": [
    "raw_data['carlength'] = raw_data['carlength']/raw_data['carlength'].mean()"
   ]
  },
  {
   "cell_type": "code",
   "execution_count": 194,
   "id": "c5ac6eec",
   "metadata": {},
   "outputs": [],
   "source": [
    "raw_data['carwidth'] = raw_data['carwidth']/raw_data['carwidth'].mean()"
   ]
  },
  {
   "cell_type": "code",
   "execution_count": 195,
   "id": "3e220524",
   "metadata": {},
   "outputs": [],
   "source": [
    "raw_data['carheight'] = raw_data['carheight']/raw_data['carheight'].mean()"
   ]
  },
  {
   "cell_type": "code",
   "execution_count": 196,
   "id": "46e396eb",
   "metadata": {},
   "outputs": [],
   "source": [
    "raw_data['curbweight'] = raw_data['curbweight']/raw_data['curbweight'].mean()"
   ]
  },
  {
   "cell_type": "code",
   "execution_count": 197,
   "id": "50bd610d",
   "metadata": {},
   "outputs": [],
   "source": [
    "raw_data['enginesize'] = raw_data['enginesize']/raw_data['enginesize'].mean()"
   ]
  },
  {
   "cell_type": "code",
   "execution_count": 198,
   "id": "69bc4390",
   "metadata": {},
   "outputs": [],
   "source": [
    "raw_data['boreratio'] = raw_data['boreratio']/raw_data['boreratio'].mean()"
   ]
  },
  {
   "cell_type": "code",
   "execution_count": 199,
   "id": "9a8a9130",
   "metadata": {},
   "outputs": [],
   "source": [
    "raw_data['stroke'] = raw_data['stroke']/raw_data['stroke'].mean()"
   ]
  },
  {
   "cell_type": "code",
   "execution_count": 200,
   "id": "056e5952",
   "metadata": {},
   "outputs": [],
   "source": [
    "raw_data['compressionratio'] = raw_data['compressionratio']/raw_data['compressionratio'].mean()"
   ]
  },
  {
   "cell_type": "code",
   "execution_count": 201,
   "id": "4d4488c4",
   "metadata": {},
   "outputs": [],
   "source": [
    "raw_data['horsepower'] = raw_data['horsepower']/raw_data['horsepower'].mean()"
   ]
  },
  {
   "cell_type": "code",
   "execution_count": 202,
   "id": "b0ce6c5c",
   "metadata": {},
   "outputs": [],
   "source": [
    "raw_data['peakrpm'] = raw_data['peakrpm']/raw_data['peakrpm'].mean()"
   ]
  },
  {
   "cell_type": "code",
   "execution_count": 203,
   "id": "656940b1",
   "metadata": {},
   "outputs": [],
   "source": [
    "raw_data['citympg'] = raw_data['citympg']/raw_data['citympg'].mean()"
   ]
  },
  {
   "cell_type": "code",
   "execution_count": 204,
   "id": "3366a9bc",
   "metadata": {},
   "outputs": [],
   "source": [
    "raw_data['highwaympg'] = raw_data['highwaympg']/raw_data['highwaympg'].mean()"
   ]
  },
  {
   "cell_type": "code",
   "execution_count": 205,
   "id": "d0137b19",
   "metadata": {},
   "outputs": [],
   "source": [
    "raw_data['cylindernumber'] = raw_data['cylindernumber']/10"
   ]
  },
  {
   "cell_type": "raw",
   "id": "c062e316",
   "metadata": {},
   "source": [
    "*** find out if the above commands can be done in a single for loop where the iterable is the lsit of columns(features) which are to be normalized."
   ]
  },
  {
   "cell_type": "code",
   "execution_count": 206,
   "id": "944223bd",
   "metadata": {},
   "outputs": [],
   "source": [
    "Y = np.array(raw_data['price']).reshape(-1,1)"
   ]
  },
  {
   "cell_type": "code",
   "execution_count": 207,
   "id": "c1b25fba",
   "metadata": {},
   "outputs": [],
   "source": [
    "raw_data.drop(['price'],axis=1,inplace=True)"
   ]
  },
  {
   "cell_type": "code",
   "execution_count": 208,
   "id": "7c70f1fd",
   "metadata": {},
   "outputs": [],
   "source": [
    "X = np.array(raw_data)"
   ]
  },
  {
   "cell_type": "code",
   "execution_count": 209,
   "id": "fe5b3ff2",
   "metadata": {},
   "outputs": [],
   "source": [
    "X = np.concatenate(((np.ones((len(Y),1))),X),axis=1)"
   ]
  },
  {
   "cell_type": "code",
   "execution_count": 210,
   "id": "c24710f6",
   "metadata": {},
   "outputs": [
    {
     "data": {
      "text/plain": [
       "(205, 38)"
      ]
     },
     "execution_count": 210,
     "metadata": {},
     "output_type": "execute_result"
    }
   ],
   "source": [
    "X.shape"
   ]
  },
  {
   "cell_type": "code",
   "execution_count": 211,
   "id": "2fa4fd05",
   "metadata": {},
   "outputs": [
    {
     "data": {
      "text/plain": [
       "(205, 1)"
      ]
     },
     "execution_count": 211,
     "metadata": {},
     "output_type": "execute_result"
    }
   ],
   "source": [
    "Y.shape"
   ]
  },
  {
   "cell_type": "code",
   "execution_count": 212,
   "id": "4f9f1784",
   "metadata": {},
   "outputs": [],
   "source": [
    "theta = np.zeros((38,1))"
   ]
  },
  {
   "cell_type": "code",
   "execution_count": 213,
   "id": "2afc5b1f",
   "metadata": {},
   "outputs": [
    {
     "data": {
      "text/plain": [
       "(38, 1)"
      ]
     },
     "execution_count": 213,
     "metadata": {},
     "output_type": "execute_result"
    }
   ],
   "source": [
    "theta.shape"
   ]
  },
  {
   "cell_type": "code",
   "execution_count": 214,
   "id": "52b8a08b",
   "metadata": {},
   "outputs": [],
   "source": [
    "Xtrain, Xtest, Ytrain, Ytest = mod.train_test_split(X,Y,test_size=0.2)"
   ]
  },
  {
   "cell_type": "code",
   "execution_count": 215,
   "id": "8b8942ab",
   "metadata": {},
   "outputs": [],
   "source": [
    "def compute_cost(x,y,theta):\n",
    "    h_x = x.dot(theta)\n",
    "    J = (1/2*len(y))*sum((np.square(h_x - y)))\n",
    "    return J       ######This function returns the value of cost function"
   ]
  },
  {
   "cell_type": "code",
   "execution_count": 216,
   "id": "5c99dee2",
   "metadata": {},
   "outputs": [],
   "source": [
    "def gradient_descent(x,y,theta,alpha,iteration):\n",
    "    J_hist = []\n",
    "    print('descent started .......')\n",
    "    for i in range(iteration):\n",
    "        h_x = x.dot(theta)\n",
    "        J_hist.append(compute_cost(x,y,theta))\n",
    "        theta = theta -(alpha/len(y))*(np.dot(x.T,h_x-y))\n",
    "    print('descent finished.')\n",
    "    return theta, J_hist    ########This function is used to train our linear regression model using gradient descent t\n"
   ]
  },
  {
   "cell_type": "code",
   "execution_count": 217,
   "id": "4087878d",
   "metadata": {},
   "outputs": [
    {
     "name": "stdout",
     "output_type": "stream",
     "text": [
      "descent started .......\n",
      "descent finished.\n"
     ]
    }
   ],
   "source": [
    "final_theta, cost_history = gradient_descent(Xtrain,Ytrain,theta,0.01,20000)"
   ]
  },
  {
   "cell_type": "code",
   "execution_count": 218,
   "id": "d56b49a9",
   "metadata": {},
   "outputs": [
    {
     "data": {
      "text/plain": [
       "array([[-2.28660228e+03],\n",
       "       [-3.45990691e+03],\n",
       "       [-1.49061575e+02],\n",
       "       [-5.22942912e+02],\n",
       "       [ 1.28607232e+03],\n",
       "       [-1.66866610e+02],\n",
       "       [ 1.45416296e+02],\n",
       "       [ 1.71122577e+03],\n",
       "       [ 5.90514774e+03],\n",
       "       [ 3.78005340e+03],\n",
       "       [ 1.35352777e+04],\n",
       "       [-4.46336277e+03],\n",
       "       [-7.93674144e+03],\n",
       "       [-6.18936517e+02],\n",
       "       [ 5.46353687e+03],\n",
       "       [ 4.20124354e+03],\n",
       "       [ 2.81614007e+02],\n",
       "       [-1.15847451e+03],\n",
       "       [ 8.08404306e+01],\n",
       "       [ 3.56404021e+00],\n",
       "       [-8.57567342e+02],\n",
       "       [-3.78695784e+02],\n",
       "       [-1.48961345e+02],\n",
       "       [-9.85782282e+02],\n",
       "       [ 5.09492283e+03],\n",
       "       [ 2.44038846e+03],\n",
       "       [ 7.00671229e+02],\n",
       "       [-7.85899721e+02],\n",
       "       [ 4.35513061e+01],\n",
       "       [-1.48125907e+03],\n",
       "       [-8.48894517e+02],\n",
       "       [-3.40388962e+03],\n",
       "       [-4.83344457e+03],\n",
       "       [ 3.14156448e+02],\n",
       "       [-1.05445205e+03],\n",
       "       [ 3.80981506e+03],\n",
       "       [ 0.00000000e+00],\n",
       "       [-1.70512153e+03]])"
      ]
     },
     "execution_count": 218,
     "metadata": {},
     "output_type": "execute_result"
    }
   ],
   "source": [
    "final_theta # here final_theta is the final array of regression coefficients which minimize the cost function "
   ]
  },
  {
   "cell_type": "code",
   "execution_count": 219,
   "id": "7f335d26",
   "metadata": {},
   "outputs": [
    {
     "data": {
      "text/plain": [
       "20000"
      ]
     },
     "execution_count": 219,
     "metadata": {},
     "output_type": "execute_result"
    }
   ],
   "source": [
    "len(cost_history)"
   ]
  },
  {
   "cell_type": "code",
   "execution_count": null,
   "id": "618f2fc6",
   "metadata": {},
   "outputs": [],
   "source": []
  },
  {
   "cell_type": "code",
   "execution_count": 220,
   "id": "5c645026",
   "metadata": {},
   "outputs": [
    {
     "data": {
      "text/plain": [
       "[<matplotlib.lines.Line2D at 0x7f77b1037c10>]"
      ]
     },
     "execution_count": 220,
     "metadata": {},
     "output_type": "execute_result"
    },
    {
     "data": {
      "image/png": "[encoded data removed]",
      "text/plain": [
       "<Figure size 2880x720 with 1 Axes>"
      ]
     },
     "metadata": {
      "needs_background": "light"
     },
     "output_type": "display_data"
    }
   ],
   "source": [
    "plt.figure(figsize=(40,10))\n",
    "plt.plot(list(range(1,20001)),cost_history,color='red')"
   ]
  },
  {
   "cell_type": "code",
   "execution_count": 221,
   "id": "db56d6ec",
   "metadata": {},
   "outputs": [],
   "source": [
    "Y_prdeict = Xtest.dot(final_theta)"
   ]
  },
  {
   "cell_type": "code",
   "execution_count": 222,
   "id": "4624a8ca",
   "metadata": {},
   "outputs": [
    {
     "data": {
      "text/plain": [
       "array([[13605.4957768 ],\n",
       "       [16981.59318005],\n",
       "       [16398.53744425],\n",
       "       [17383.6996784 ],\n",
       "       [12680.88596359],\n",
       "       [ 6039.56285625],\n",
       "       [ 8869.42975223],\n",
       "       [17065.25210163],\n",
       "       [ 7434.85269456],\n",
       "       [ 7585.7485846 ],\n",
       "       [17005.14044182],\n",
       "       [10966.34257514],\n",
       "       [18065.35884009],\n",
       "       [19258.07887495],\n",
       "       [16904.84177758],\n",
       "       [ 8430.42456651],\n",
       "       [30565.36313272],\n",
       "       [14796.00328766],\n",
       "       [ 6524.56660529],\n",
       "       [17978.35277767],\n",
       "       [10770.15646123],\n",
       "       [16708.35516809],\n",
       "       [13732.58431379],\n",
       "       [10625.37729413],\n",
       "       [ 5769.32340677],\n",
       "       [ 5402.27211929],\n",
       "       [ 6488.91587612],\n",
       "       [15116.83170489],\n",
       "       [16349.22558032],\n",
       "       [17069.45307014],\n",
       "       [ 6118.66201129],\n",
       "       [10296.2526017 ],\n",
       "       [18409.08598821],\n",
       "       [19395.81061516],\n",
       "       [17857.829834  ],\n",
       "       [ 6261.29760437],\n",
       "       [16223.37258384],\n",
       "       [ 9937.9385967 ],\n",
       "       [ 6792.51075548],\n",
       "       [10568.79064141],\n",
       "       [17507.50938057]])"
      ]
     },
     "execution_count": 222,
     "metadata": {},
     "output_type": "execute_result"
    }
   ],
   "source": [
    "Y_prdeict  ####Our final pediction"
   ]
  },
  {
   "cell_type": "code",
   "execution_count": 223,
   "id": "17afffaa",
   "metadata": {},
   "outputs": [
    {
     "data": {
      "text/plain": [
       "array([[11900.   ],\n",
       "       [18280.   ],\n",
       "       [12629.   ],\n",
       "       [17075.   ],\n",
       "       [16430.   ],\n",
       "       [ 7799.   ],\n",
       "       [ 8195.   ],\n",
       "       [11199.   ],\n",
       "       [ 6938.   ],\n",
       "       [ 7775.   ],\n",
       "       [12940.   ],\n",
       "       [ 9233.   ],\n",
       "       [23875.   ],\n",
       "       [17199.   ],\n",
       "       [13495.   ],\n",
       "       [ 8778.   ],\n",
       "       [35550.   ],\n",
       "       [18344.   ],\n",
       "       [ 6649.   ],\n",
       "       [16845.   ],\n",
       "       [13645.   ],\n",
       "       [16515.   ],\n",
       "       [16630.   ],\n",
       "       [10245.   ],\n",
       "       [ 7349.   ],\n",
       "       [ 6795.   ],\n",
       "       [ 7129.   ],\n",
       "       [18920.   ],\n",
       "       [17710.   ],\n",
       "       [15985.   ],\n",
       "       [ 6488.   ],\n",
       "       [13950.   ],\n",
       "       [18950.   ],\n",
       "       [21485.   ],\n",
       "       [17859.167],\n",
       "       [ 8916.5  ],\n",
       "       [12964.   ],\n",
       "       [11248.   ],\n",
       "       [ 7198.   ],\n",
       "       [10898.   ],\n",
       "       [14399.   ]])"
      ]
     },
     "execution_count": 223,
     "metadata": {},
     "output_type": "execute_result"
    }
   ],
   "source": [
    "Ytest "
   ]
  },
  {
   "cell_type": "code",
   "execution_count": null,
   "id": "cd6232a6",
   "metadata": {},
   "outputs": [],
   "source": []
  },
  {
   "cell_type": "code",
   "execution_count": null,
   "id": "5829b115",
   "metadata": {},
   "outputs": [],
   "source": []
  },
  {
   "cell_type": "code",
   "execution_count": null,
   "id": "456496aa",
   "metadata": {},
   "outputs": [],
   "source": []
  },
  {
   "cell_type": "code",
   "execution_count": null,
   "id": "5e32eeec",
   "metadata": {},
   "outputs": [],
   "source": []
  },
  {
   "cell_type": "code",
   "execution_count": null,
   "id": "e0bb55b4",
   "metadata": {},
   "outputs": [],
   "source": []
  },
  {
   "cell_type": "code",
   "execution_count": null,
   "id": "a503257d",
   "metadata": {},
   "outputs": [],
   "source": []
  },
  {
   "cell_type": "code",
   "execution_count": null,
   "id": "fbe2edfe",
   "metadata": {},
   "outputs": [],
   "source": []
  },
  {
   "cell_type": "code",
   "execution_count": null,
   "id": "e48fa9cf",
   "metadata": {},
   "outputs": [],
   "source": []
  },
  {
   "cell_type": "code",
   "execution_count": null,
   "id": "1eae7e5f",
   "metadata": {},
   "outputs": [],
   "source": []
  },
  {
   "cell_type": "code",
   "execution_count": null,
   "id": "b8c2e441",
   "metadata": {},
   "outputs": [],
   "source": []
  },
  {
   "cell_type": "code",
   "execution_count": null,
   "id": "dc169623",
   "metadata": {},
   "outputs": [],
   "source": []
  },
  {
   "cell_type": "code",
   "execution_count": null,
   "id": "4a1df645",
   "metadata": {},
   "outputs": [],
   "source": []
  },
  {
   "cell_type": "code",
   "execution_count": null,
   "id": "73cf39ba",
   "metadata": {},
   "outputs": [],
   "source": []
  }
 ],
 "metadata": {
  "kernelspec": {
   "display_name": "Python 3 (ipykernel)",
   "language": "python",
   "name": "python3"
  },
  "language_info": {
   "codemirror_mode": {
    "name": "ipython",
    "version": 3
   },
   "file_extension": ".py",
   "mimetype": "text/x-python",
   "name": "python",
   "nbconvert_exporter": "python",
   "pygments_lexer": "ipython3",
   "version": "3.9.7"
  }
 },
 "nbformat": 4,
 "nbformat_minor": 5
}
