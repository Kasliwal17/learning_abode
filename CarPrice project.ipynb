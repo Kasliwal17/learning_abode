{
 "cells": [
  {
   "cell_type": "code",
   "execution_count": 157,
   "id": "d633c9d5",
   "metadata": {},
   "outputs": [],
   "source": [
    "import pandas as pd\n",
    "import numpy as np\n",
    "import matplotlib.pyplot as plt\n",
    "import math\n",
    "import sklearn.model_selection as mod\n",
    "import sklearn.metrics as metrics\n",
    "\n",
    "%matplotlib inline"
   ]
  },
  {
   "cell_type": "code",
   "execution_count": 158,
   "id": "228f70d7",
   "metadata": {},
   "outputs": [],
   "source": [
    "raw_data = pd.read_csv('CarPrice_Assignment.csv')"
   ]
  },
  {
   "cell_type": "code",
   "execution_count": 159,
   "id": "2052bd6a",
   "metadata": {},
   "outputs": [],
   "source": [
    "raw_data.drop(['car_ID','CarName','enginelocation','fuelsystem'],axis = 1,inplace=True)"
   ]
  },
  {
   "cell_type": "markdown",
   "id": "ebc79d4f",
   "metadata": {},
   "source": [
    "I have dropped the above 4 columns as, car id is not imp. for regression,I dont know how to use car name in algorithm, engine location is dropped because there are very few case of rear engine and I don't know how the fuel system would effect the price of car"
   ]
  },
  {
   "cell_type": "code",
   "execution_count": 160,
   "id": "ac0d6de3",
   "metadata": {},
   "outputs": [
    {
     "data": {
      "text/plain": [
       "array([ 3,  1,  2,  0, -1, -2])"
      ]
     },
     "execution_count": 160,
     "metadata": {},
     "output_type": "execute_result"
    }
   ],
   "source": [
    "raw_data['symboling'].unique()"
   ]
  },
  {
   "cell_type": "code",
   "execution_count": 161,
   "id": "37269a15",
   "metadata": {},
   "outputs": [],
   "source": [
    "raw_data['symboling(3)'] = raw_data['symboling'].apply(lambda x : 1 if x==3 else 0)"
   ]
  },
  {
   "cell_type": "code",
   "execution_count": 162,
   "id": "9439ea5f",
   "metadata": {},
   "outputs": [],
   "source": [
    "raw_data['symboling(1)'] = raw_data['symboling'].apply(lambda x : 1 if x==1 else 0)"
   ]
  },
  {
   "cell_type": "code",
   "execution_count": 163,
   "id": "84610edb",
   "metadata": {},
   "outputs": [],
   "source": [
    "raw_data['symboling(2)'] = raw_data['symboling'].apply(lambda x : 1 if x==2 else 0)"
   ]
  },
  {
   "cell_type": "code",
   "execution_count": 164,
   "id": "71100317",
   "metadata": {},
   "outputs": [],
   "source": [
    "raw_data['symboling(0)'] = raw_data['symboling'].apply(lambda x : 1 if x==0 else 0)"
   ]
  },
  {
   "cell_type": "code",
   "execution_count": 165,
   "id": "5f0c38f7",
   "metadata": {},
   "outputs": [],
   "source": [
    "raw_data['symboling(-1)'] = raw_data['symboling'].apply(lambda x : 1 if x == -1 else 0)"
   ]
  },
  {
   "cell_type": "code",
   "execution_count": 166,
   "id": "7e21f018",
   "metadata": {},
   "outputs": [],
   "source": [
    "raw_data['symboling(-2)'] = raw_data['symboling'].apply(lambda x : 1 if x == -2 else 0)"
   ]
  },
  {
   "cell_type": "code",
   "execution_count": 167,
   "id": "88717434",
   "metadata": {},
   "outputs": [],
   "source": [
    "raw_data.drop(['symboling'],axis=1,inplace=True)"
   ]
  },
  {
   "cell_type": "code",
   "execution_count": null,
   "id": "a8ce142c",
   "metadata": {},
   "outputs": [],
   "source": []
  },
  {
   "cell_type": "code",
   "execution_count": null,
   "id": "f6ec08fc",
   "metadata": {},
   "outputs": [],
   "source": []
  },
  {
   "cell_type": "code",
   "execution_count": 168,
   "id": "d8ddb6d7",
   "metadata": {},
   "outputs": [
    {
     "data": {
      "text/plain": [
       "array(['gas', 'diesel'], dtype=object)"
      ]
     },
     "execution_count": 168,
     "metadata": {},
     "output_type": "execute_result"
    }
   ],
   "source": [
    "raw_data['fueltype'].unique()"
   ]
  },
  {
   "cell_type": "code",
   "execution_count": 169,
   "id": "5fdbc88d",
   "metadata": {},
   "outputs": [],
   "source": [
    "raw_data['fueltype'] = raw_data['fueltype'].apply(lambda x : 1 if x == 'gas' else 0)"
   ]
  },
  {
   "cell_type": "code",
   "execution_count": null,
   "id": "16a74164",
   "metadata": {},
   "outputs": [],
   "source": []
  },
  {
   "cell_type": "code",
   "execution_count": 170,
   "id": "4810fb13",
   "metadata": {},
   "outputs": [
    {
     "data": {
      "text/plain": [
       "array(['std', 'turbo'], dtype=object)"
      ]
     },
     "execution_count": 170,
     "metadata": {},
     "output_type": "execute_result"
    }
   ],
   "source": [
    "raw_data['aspiration'].unique()"
   ]
  },
  {
   "cell_type": "code",
   "execution_count": 171,
   "id": "54a795b3",
   "metadata": {},
   "outputs": [],
   "source": [
    "raw_data['aspiration'] = raw_data['aspiration'].apply(lambda x : 1 if x == 'turbo' else 0)"
   ]
  },
  {
   "cell_type": "code",
   "execution_count": null,
   "id": "e236a72a",
   "metadata": {},
   "outputs": [],
   "source": []
  },
  {
   "cell_type": "code",
   "execution_count": 172,
   "id": "45abf91b",
   "metadata": {},
   "outputs": [
    {
     "data": {
      "text/plain": [
       "array(['two', 'four'], dtype=object)"
      ]
     },
     "execution_count": 172,
     "metadata": {},
     "output_type": "execute_result"
    }
   ],
   "source": [
    "raw_data['doornumber'].unique()"
   ]
  },
  {
   "cell_type": "code",
   "execution_count": 173,
   "id": "f8503dfc",
   "metadata": {},
   "outputs": [],
   "source": [
    "raw_data['doornumber'] = raw_data['doornumber'].apply(lambda x : 1 if x == 'two' else 0)"
   ]
  },
  {
   "cell_type": "code",
   "execution_count": null,
   "id": "b1a4bbee",
   "metadata": {},
   "outputs": [],
   "source": []
  },
  {
   "cell_type": "code",
   "execution_count": 174,
   "id": "3786d274",
   "metadata": {},
   "outputs": [
    {
     "data": {
      "text/plain": [
       "array(['convertible', 'hatchback', 'sedan', 'wagon', 'hardtop'],\n",
       "      dtype=object)"
      ]
     },
     "execution_count": 174,
     "metadata": {},
     "output_type": "execute_result"
    }
   ],
   "source": [
    "raw_data['carbody'].unique()"
   ]
  },
  {
   "cell_type": "code",
   "execution_count": 175,
   "id": "9494c298",
   "metadata": {},
   "outputs": [],
   "source": [
    "raw_data['carbody(c)'] = raw_data['carbody'].apply(lambda x : 1 if x == 'convertible' else 0)"
   ]
  },
  {
   "cell_type": "code",
   "execution_count": 176,
   "id": "54539406",
   "metadata": {},
   "outputs": [],
   "source": [
    "raw_data['carbody(h)'] = raw_data['carbody'].apply(lambda x : 1 if x == 'hatchback' else 0)"
   ]
  },
  {
   "cell_type": "code",
   "execution_count": 177,
   "id": "6ba6e97c",
   "metadata": {},
   "outputs": [],
   "source": [
    "raw_data['carbody(s)'] = raw_data['carbody'].apply(lambda x : 1 if x == 'sedan' else 0)"
   ]
  },
  {
   "cell_type": "code",
   "execution_count": 178,
   "id": "fcc263fe",
   "metadata": {},
   "outputs": [],
   "source": [
    "raw_data['carbody(w)'] = raw_data['carbody'].apply(lambda x : 1 if x == 'wagon' else 0)"
   ]
  },
  {
   "cell_type": "code",
   "execution_count": 179,
   "id": "16ff5170",
   "metadata": {},
   "outputs": [],
   "source": [
    "raw_data['carbody(h)'] = raw_data['carbody'].apply(lambda x : 1 if x == 'hardtop' else 0)"
   ]
  },
  {
   "cell_type": "code",
   "execution_count": 180,
   "id": "4645f098",
   "metadata": {},
   "outputs": [],
   "source": [
    "raw_data.drop(['carbody'],axis=1,inplace=True)"
   ]
  },
  {
   "cell_type": "code",
   "execution_count": null,
   "id": "d578e9f5",
   "metadata": {},
   "outputs": [],
   "source": []
  },
  {
   "cell_type": "code",
   "execution_count": null,
   "id": "20b54816",
   "metadata": {},
   "outputs": [],
   "source": []
  },
  {
   "cell_type": "code",
   "execution_count": 181,
   "id": "af1ca412",
   "metadata": {},
   "outputs": [
    {
     "data": {
      "text/plain": [
       "array(['rwd', 'fwd', '4wd'], dtype=object)"
      ]
     },
     "execution_count": 181,
     "metadata": {},
     "output_type": "execute_result"
    }
   ],
   "source": [
    "raw_data['drivewheel'].unique()"
   ]
  },
  {
   "cell_type": "code",
   "execution_count": 182,
   "id": "5546f807",
   "metadata": {},
   "outputs": [],
   "source": [
    "raw_data['drivewheel(r)'] = raw_data['drivewheel'].apply(lambda x : 1 if x == 'rwd' else 0)"
   ]
  },
  {
   "cell_type": "code",
   "execution_count": 183,
   "id": "b53f89bd",
   "metadata": {},
   "outputs": [],
   "source": [
    "raw_data['drivewheel(f)'] = raw_data['drivewheel'].apply(lambda x : 1 if x == 'fwd' else 0)"
   ]
  },
  {
   "cell_type": "code",
   "execution_count": 184,
   "id": "0fb92fea",
   "metadata": {},
   "outputs": [],
   "source": [
    "raw_data['drivewheel(4)'] = raw_data['drivewheel'].apply(lambda x : 1 if x == '4wd' else 0)"
   ]
  },
  {
   "cell_type": "code",
   "execution_count": 185,
   "id": "0e595ae9",
   "metadata": {},
   "outputs": [],
   "source": [
    "raw_data.drop(['drivewheel'],axis=1,inplace=True)"
   ]
  },
  {
   "cell_type": "code",
   "execution_count": null,
   "id": "1b7f121e",
   "metadata": {},
   "outputs": [],
   "source": []
  },
  {
   "cell_type": "code",
   "execution_count": null,
   "id": "c6b316ab",
   "metadata": {},
   "outputs": [],
   "source": []
  },
  {
   "cell_type": "code",
   "execution_count": 186,
   "id": "c215cde1",
   "metadata": {},
   "outputs": [
    {
     "data": {
      "text/plain": [
       "array(['dohc', 'ohcv', 'ohc', 'l', 'rotor', 'ohcf', 'dohcv'], dtype=object)"
      ]
     },
     "execution_count": 186,
     "metadata": {},
     "output_type": "execute_result"
    }
   ],
   "source": [
    "raw_data['enginetype'].unique()"
   ]
  },
  {
   "cell_type": "code",
   "execution_count": 187,
   "id": "e3fc1f28",
   "metadata": {},
   "outputs": [],
   "source": [
    "raw_data['enginetype(d)'] = raw_data['enginetype'].apply(lambda x : 1 if x == 'dohc' else 0)"
   ]
  },
  {
   "cell_type": "code",
   "execution_count": 188,
   "id": "ebda3329",
   "metadata": {},
   "outputs": [],
   "source": [
    "raw_data['enginetype(ov)'] = raw_data['enginetype'].apply(lambda x : 1 if x == 'ohcv' else 0)"
   ]
  },
  {
   "cell_type": "code",
   "execution_count": 189,
   "id": "5f8496ea",
   "metadata": {},
   "outputs": [],
   "source": [
    "raw_data['enginetype(o)'] = raw_data['enginetype'].apply(lambda x : 1 if x == 'ohc' else 0)"
   ]
  },
  {
   "cell_type": "code",
   "execution_count": 190,
   "id": "547566f3",
   "metadata": {},
   "outputs": [],
   "source": [
    "raw_data['enginetype(l)'] = raw_data['enginetype'].apply(lambda x : 1 if x == 'l' else 0)"
   ]
  },
  {
   "cell_type": "code",
   "execution_count": 191,
   "id": "48160dcd",
   "metadata": {},
   "outputs": [],
   "source": [
    "raw_data['enginetype(r)'] = raw_data['enginetype'].apply(lambda x : 1 if x == 'rotor' else 0)"
   ]
  },
  {
   "cell_type": "code",
   "execution_count": 192,
   "id": "8c731f7e",
   "metadata": {},
   "outputs": [],
   "source": [
    "raw_data['enginetype(of)'] = raw_data['enginetype'].apply(lambda x : 1 if x == 'ohfc' else 0)"
   ]
  },
  {
   "cell_type": "code",
   "execution_count": 193,
   "id": "b3d9ab6d",
   "metadata": {},
   "outputs": [],
   "source": [
    "raw_data['enginetype(dv)'] = raw_data['enginetype'].apply(lambda x : 1 if x == 'dohcv' else 0)"
   ]
  },
  {
   "cell_type": "code",
   "execution_count": 194,
   "id": "285cb357",
   "metadata": {},
   "outputs": [],
   "source": [
    "raw_data.drop(['enginetype'],axis=1,inplace=True)"
   ]
  },
  {
   "cell_type": "code",
   "execution_count": 195,
   "id": "ed5656b9",
   "metadata": {},
   "outputs": [
    {
     "data": {
      "text/plain": [
       "(205, 38)"
      ]
     },
     "execution_count": 195,
     "metadata": {},
     "output_type": "execute_result"
    }
   ],
   "source": [
    "raw_data.shape"
   ]
  },
  {
   "cell_type": "code",
   "execution_count": null,
   "id": "c93b8057",
   "metadata": {},
   "outputs": [],
   "source": []
  },
  {
   "cell_type": "code",
   "execution_count": 196,
   "id": "9fb94c4f",
   "metadata": {},
   "outputs": [
    {
     "data": {
      "text/plain": [
       "array(['four', 'six', 'five', 'three', 'twelve', 'two', 'eight'],\n",
       "      dtype=object)"
      ]
     },
     "execution_count": 196,
     "metadata": {},
     "output_type": "execute_result"
    }
   ],
   "source": [
    "raw_data['cylindernumber'].unique()"
   ]
  },
  {
   "cell_type": "code",
   "execution_count": 197,
   "id": "b626dc3f",
   "metadata": {},
   "outputs": [],
   "source": [
    "def update_cn(x):\n",
    "    if x == 'four':\n",
    "        return 4\n",
    "    elif x == 'six':\n",
    "        return 6\n",
    "    elif x == 'five':\n",
    "        return 5\n",
    "    elif x == 'three':\n",
    "        return 3\n",
    "    elif x == 'twelve':\n",
    "        return 12\n",
    "    elif x == 'two':\n",
    "        return 2\n",
    "    else:\n",
    "        return 8"
   ]
  },
  {
   "cell_type": "code",
   "execution_count": 198,
   "id": "a659eaaa",
   "metadata": {},
   "outputs": [],
   "source": [
    "\n",
    "raw_data['cylindernumber'] = raw_data['cylindernumber'].apply(update_cn)"
   ]
  },
  {
   "cell_type": "code",
   "execution_count": null,
   "id": "e0e11932",
   "metadata": {},
   "outputs": [],
   "source": []
  },
  {
   "cell_type": "markdown",
   "id": "1b505286",
   "metadata": {},
   "source": [
    "The below commands are to normalize the features for linear regression"
   ]
  },
  {
   "cell_type": "code",
   "execution_count": 199,
   "id": "2f5bda27",
   "metadata": {},
   "outputs": [],
   "source": [
    "raw_data['wheelbase'] = raw_data['wheelbase']/raw_data['wheelbase'].mean()"
   ]
  },
  {
   "cell_type": "code",
   "execution_count": 200,
   "id": "bcb8ed0c",
   "metadata": {},
   "outputs": [],
   "source": [
    "raw_data['carlength'] = raw_data['carlength']/raw_data['carlength'].mean()"
   ]
  },
  {
   "cell_type": "code",
   "execution_count": 201,
   "id": "c5ac6eec",
   "metadata": {},
   "outputs": [],
   "source": [
    "raw_data['carwidth'] = raw_data['carwidth']/raw_data['carwidth'].mean()"
   ]
  },
  {
   "cell_type": "code",
   "execution_count": 202,
   "id": "3e220524",
   "metadata": {},
   "outputs": [],
   "source": [
    "raw_data['carheight'] = raw_data['carheight']/raw_data['carheight'].mean()"
   ]
  },
  {
   "cell_type": "code",
   "execution_count": 203,
   "id": "46e396eb",
   "metadata": {},
   "outputs": [],
   "source": [
    "raw_data['curbweight'] = raw_data['curbweight']/raw_data['curbweight'].mean()"
   ]
  },
  {
   "cell_type": "code",
   "execution_count": 204,
   "id": "50bd610d",
   "metadata": {},
   "outputs": [],
   "source": [
    "raw_data['enginesize'] = raw_data['enginesize']/raw_data['enginesize'].mean()"
   ]
  },
  {
   "cell_type": "code",
   "execution_count": 205,
   "id": "69bc4390",
   "metadata": {},
   "outputs": [],
   "source": [
    "raw_data['boreratio'] = raw_data['boreratio']/raw_data['boreratio'].mean()"
   ]
  },
  {
   "cell_type": "code",
   "execution_count": 206,
   "id": "9a8a9130",
   "metadata": {},
   "outputs": [],
   "source": [
    "raw_data['stroke'] = raw_data['stroke']/raw_data['stroke'].mean()"
   ]
  },
  {
   "cell_type": "code",
   "execution_count": 207,
   "id": "056e5952",
   "metadata": {},
   "outputs": [],
   "source": [
    "raw_data['compressionratio'] = raw_data['compressionratio']/raw_data['compressionratio'].mean()"
   ]
  },
  {
   "cell_type": "code",
   "execution_count": 208,
   "id": "4d4488c4",
   "metadata": {},
   "outputs": [],
   "source": [
    "raw_data['horsepower'] = raw_data['horsepower']/raw_data['horsepower'].mean()"
   ]
  },
  {
   "cell_type": "code",
   "execution_count": 209,
   "id": "b0ce6c5c",
   "metadata": {},
   "outputs": [],
   "source": [
    "raw_data['peakrpm'] = raw_data['peakrpm']/raw_data['peakrpm'].mean()"
   ]
  },
  {
   "cell_type": "code",
   "execution_count": 210,
   "id": "656940b1",
   "metadata": {},
   "outputs": [],
   "source": [
    "raw_data['citympg'] = raw_data['citympg']/raw_data['citympg'].mean()"
   ]
  },
  {
   "cell_type": "code",
   "execution_count": 211,
   "id": "3366a9bc",
   "metadata": {},
   "outputs": [],
   "source": [
    "raw_data['highwaympg'] = raw_data['highwaympg']/raw_data['highwaympg'].mean()"
   ]
  },
  {
   "cell_type": "code",
   "execution_count": 212,
   "id": "d0137b19",
   "metadata": {},
   "outputs": [],
   "source": [
    "raw_data['cylindernumber'] = raw_data['cylindernumber']/10"
   ]
  },
  {
   "cell_type": "raw",
   "id": "c062e316",
   "metadata": {},
   "source": [
    "*** find out if the above commands can be done in a single for loop where the iterable is the lsit of columns(features) which are to be normalized."
   ]
  },
  {
   "cell_type": "code",
   "execution_count": 213,
   "id": "944223bd",
   "metadata": {},
   "outputs": [],
   "source": [
    "Y = np.array(raw_data['price']).reshape(-1,1)"
   ]
  },
  {
   "cell_type": "code",
   "execution_count": 214,
   "id": "c1b25fba",
   "metadata": {},
   "outputs": [],
   "source": [
    "raw_data.drop(['price'],axis=1,inplace=True)"
   ]
  },
  {
   "cell_type": "code",
   "execution_count": 215,
   "id": "7c70f1fd",
   "metadata": {},
   "outputs": [],
   "source": [
    "X = np.array(raw_data)"
   ]
  },
  {
   "cell_type": "code",
   "execution_count": 216,
   "id": "fe5b3ff2",
   "metadata": {},
   "outputs": [],
   "source": [
    "X = np.concatenate(((np.ones((len(Y),1))),X),axis=1)"
   ]
  },
  {
   "cell_type": "code",
   "execution_count": 217,
   "id": "c24710f6",
   "metadata": {},
   "outputs": [
    {
     "data": {
      "text/plain": [
       "(205, 38)"
      ]
     },
     "execution_count": 217,
     "metadata": {},
     "output_type": "execute_result"
    }
   ],
   "source": [
    "X.shape"
   ]
  },
  {
   "cell_type": "code",
   "execution_count": 218,
   "id": "2fa4fd05",
   "metadata": {},
   "outputs": [
    {
     "data": {
      "text/plain": [
       "(205, 1)"
      ]
     },
     "execution_count": 218,
     "metadata": {},
     "output_type": "execute_result"
    }
   ],
   "source": [
    "Y.shape"
   ]
  },
  {
   "cell_type": "code",
   "execution_count": 219,
   "id": "4f9f1784",
   "metadata": {},
   "outputs": [],
   "source": [
    "theta = np.zeros((38,1))"
   ]
  },
  {
   "cell_type": "code",
   "execution_count": 220,
   "id": "2afc5b1f",
   "metadata": {},
   "outputs": [
    {
     "data": {
      "text/plain": [
       "(38, 1)"
      ]
     },
     "execution_count": 220,
     "metadata": {},
     "output_type": "execute_result"
    }
   ],
   "source": [
    "theta.shape"
   ]
  },
  {
   "cell_type": "code",
   "execution_count": 221,
   "id": "52b8a08b",
   "metadata": {},
   "outputs": [],
   "source": [
    "Xtrain, Xtest, Ytrain, Ytest = mod.train_test_split(X,Y,test_size=0.2)"
   ]
  },
  {
   "cell_type": "code",
   "execution_count": 222,
   "id": "8b8942ab",
   "metadata": {},
   "outputs": [],
   "source": [
    "def compute_cost(x,y,theta):\n",
    "    h_x = x.dot(theta)\n",
    "    J = (1/2*len(y))*sum((np.square(h_x - y)))\n",
    "    return J       ######This function returns the value of cost function"
   ]
  },
  {
   "cell_type": "code",
   "execution_count": 223,
   "id": "5c99dee2",
   "metadata": {},
   "outputs": [],
   "source": [
    "def gradient_descent(x,y,theta,alpha,iteration):\n",
    "    J_hist = []\n",
    "    print('descent started .......')\n",
    "    for i in range(iteration):\n",
    "        h_x = x.dot(theta)\n",
    "        J_hist.append(compute_cost(x,y,theta))\n",
    "        theta = theta -(alpha/len(y))*(np.dot(x.T,h_x-y))\n",
    "    print('descent finished.')\n",
    "    return theta, J_hist    ########This function is used to train our linear regression model using gradient descent t\n"
   ]
  },
  {
   "cell_type": "code",
   "execution_count": 224,
   "id": "4087878d",
   "metadata": {},
   "outputs": [
    {
     "name": "stdout",
     "output_type": "stream",
     "text": [
      "descent started .......\n",
      "descent finished.\n"
     ]
    }
   ],
   "source": [
    "final_theta, cost_history = gradient_descent(Xtrain,Ytrain,theta,0.01,20000)"
   ]
  },
  {
   "cell_type": "code",
   "execution_count": 225,
   "id": "d56b49a9",
   "metadata": {},
   "outputs": [
    {
     "data": {
      "text/plain": [
       "array([[-2.32954660e+03],\n",
       "       [-4.50445004e+03],\n",
       "       [-8.30596716e+02],\n",
       "       [-5.36564556e+02],\n",
       "       [ 2.62524949e+03],\n",
       "       [ 7.96621923e+02],\n",
       "       [ 6.05133248e+02],\n",
       "       [ 1.45197452e+03],\n",
       "       [ 6.15313481e+03],\n",
       "       [ 3.42695572e+03],\n",
       "       [ 1.27338036e+04],\n",
       "       [-5.22161931e+03],\n",
       "       [-6.92454218e+03],\n",
       "       [-1.01535507e+03],\n",
       "       [ 6.37766512e+03],\n",
       "       [ 3.45302256e+03],\n",
       "       [-2.14749769e+02],\n",
       "       [-1.65358690e+03],\n",
       "       [ 6.19455937e-01],\n",
       "       [ 8.03590140e+02],\n",
       "       [-2.68980327e+02],\n",
       "       [ 4.34918265e+01],\n",
       "       [-4.17933409e+02],\n",
       "       [-2.49033429e+03],\n",
       "       [ 4.49994243e+03],\n",
       "       [ 2.10455604e+03],\n",
       "       [ 9.55868283e+02],\n",
       "       [-6.32293257e+02],\n",
       "       [-4.34983671e+01],\n",
       "       [-1.10766232e+03],\n",
       "       [-1.17838591e+03],\n",
       "       [-2.90755593e+03],\n",
       "       [-5.68360576e+03],\n",
       "       [ 3.03014431e+01],\n",
       "       [-1.11274453e+03],\n",
       "       [ 4.57712851e+03],\n",
       "       [ 0.00000000e+00],\n",
       "       [-2.62870865e+03]])"
      ]
     },
     "execution_count": 225,
     "metadata": {},
     "output_type": "execute_result"
    }
   ],
   "source": [
    "final_theta # here final_theta is the final array of regression coefficients which minimize the cost function "
   ]
  },
  {
   "cell_type": "code",
   "execution_count": 226,
   "id": "7f335d26",
   "metadata": {},
   "outputs": [
    {
     "data": {
      "text/plain": [
       "20000"
      ]
     },
     "execution_count": 226,
     "metadata": {},
     "output_type": "execute_result"
    }
   ],
   "source": [
    "len(cost_history)"
   ]
  },
  {
   "cell_type": "code",
   "execution_count": null,
   "id": "618f2fc6",
   "metadata": {},
   "outputs": [],
   "source": []
  },
  {
   "cell_type": "code",
   "execution_count": 227,
   "id": "5c645026",
   "metadata": {},
   "outputs": [
    {
     "data": {
      "text/plain": [
       "[<matplotlib.lines.Line2D at 0x7fee2a799b50>]"
      ]
     },
     "execution_count": 227,
     "metadata": {},
     "output_type": "execute_result"
    },
    {
     "data": {
      "image/png": "[encoded data removed]",
      "text/plain": [
       "<Figure size 2880x720 with 1 Axes>"
      ]
     },
     "metadata": {
      "needs_background": "light"
     },
     "output_type": "display_data"
    }
   ],
   "source": [
    "plt.figure(figsize=(40,10))\n",
    "plt.plot(list(range(1,20001)),cost_history,color='red')"
   ]
  },
  {
   "cell_type": "code",
   "execution_count": 228,
   "id": "db56d6ec",
   "metadata": {},
   "outputs": [],
   "source": [
    "Y_predict = Xtest.dot(final_theta)"
   ]
  },
  {
   "cell_type": "code",
   "execution_count": 229,
   "id": "4624a8ca",
   "metadata": {},
   "outputs": [
    {
     "data": {
      "text/plain": [
       "array([[ 8950.83940841],\n",
       "       [11102.95015639],\n",
       "       [25298.19498982],\n",
       "       [ 8322.03524257],\n",
       "       [12085.00866273],\n",
       "       [ 5572.57534311],\n",
       "       [10306.51802619],\n",
       "       [ 6188.5982755 ],\n",
       "       [ 9655.63724074],\n",
       "       [ 5792.15547749],\n",
       "       [30173.65322428],\n",
       "       [ 6288.2796997 ],\n",
       "       [ 4835.35960869],\n",
       "       [10594.22578304],\n",
       "       [11429.68952699],\n",
       "       [ 5998.90576096],\n",
       "       [16821.77561111],\n",
       "       [ 9571.65980233],\n",
       "       [11415.73450658],\n",
       "       [11860.15019982],\n",
       "       [11049.68218304],\n",
       "       [10261.77516305],\n",
       "       [20485.66044307],\n",
       "       [ 8473.95731595],\n",
       "       [16357.52879018],\n",
       "       [18234.58395998],\n",
       "       [17802.51198165],\n",
       "       [17831.09363851],\n",
       "       [ 8894.67322632],\n",
       "       [ 6665.7606621 ],\n",
       "       [24335.30948846],\n",
       "       [30649.65891724],\n",
       "       [17184.29789749],\n",
       "       [16258.22821651],\n",
       "       [ 5560.5366496 ],\n",
       "       [ 6263.06125529],\n",
       "       [ 9717.27189183],\n",
       "       [12047.3838809 ],\n",
       "       [10181.81312643],\n",
       "       [16147.41300167],\n",
       "       [11788.77358513]])"
      ]
     },
     "execution_count": 229,
     "metadata": {},
     "output_type": "execute_result"
    }
   ],
   "source": [
    "Y_predict  ####Our final pediction"
   ]
  },
  {
   "cell_type": "code",
   "execution_count": 230,
   "id": "17afffaa",
   "metadata": {},
   "outputs": [
    {
     "data": {
      "text/plain": [
       "array([[ 7788. ],\n",
       "       [10245. ],\n",
       "       [25552. ],\n",
       "       [ 8238. ],\n",
       "       [ 9279. ],\n",
       "       [ 6795. ],\n",
       "       [ 9295. ],\n",
       "       [ 7999. ],\n",
       "       [ 9895. ],\n",
       "       [ 6338. ],\n",
       "       [32528. ],\n",
       "       [ 6229. ],\n",
       "       [ 6189. ],\n",
       "       [10898. ],\n",
       "       [ 9549. ],\n",
       "       [ 7898. ],\n",
       "       [11199. ],\n",
       "       [ 7126. ],\n",
       "       [ 9960. ],\n",
       "       [ 6989. ],\n",
       "       [10345. ],\n",
       "       [10595. ],\n",
       "       [15998. ],\n",
       "       [ 7895. ],\n",
       "       [13295. ],\n",
       "       [18150. ],\n",
       "       [13860. ],\n",
       "       [14399. ],\n",
       "       [ 7975. ],\n",
       "       [ 7198. ],\n",
       "       [28248. ],\n",
       "       [35056. ],\n",
       "       [22625. ],\n",
       "       [13495. ],\n",
       "       [ 6095. ],\n",
       "       [ 8916.5],\n",
       "       [11248. ],\n",
       "       [11259. ],\n",
       "       [10198. ],\n",
       "       [12629. ],\n",
       "       [12945. ]])"
      ]
     },
     "execution_count": 230,
     "metadata": {},
     "output_type": "execute_result"
    }
   ],
   "source": [
    "Ytest "
   ]
  },
  {
   "cell_type": "code",
   "execution_count": 231,
   "id": "cd6232a6",
   "metadata": {},
   "outputs": [
    {
     "data": {
      "text/plain": [
       "0.8730692983977346"
      ]
     },
     "execution_count": 231,
     "metadata": {},
     "output_type": "execute_result"
    }
   ],
   "source": [
    "metrics.r2_score(Ytest,Y_predict)"
   ]
  },
  {
   "cell_type": "code",
   "execution_count": 232,
   "id": "5829b115",
   "metadata": {},
   "outputs": [
    {
     "data": {
      "text/plain": [
       "2465.0307746189865"
      ]
     },
     "execution_count": 232,
     "metadata": {},
     "output_type": "execute_result"
    }
   ],
   "source": [
    "metrics.mean_squared_error(Ytest, Y_predict)**0.5"
   ]
  },
  {
   "cell_type": "code",
   "execution_count": null,
   "id": "f0b86941",
   "metadata": {},
   "outputs": [],
   "source": []
  },
  {
   "cell_type": "code",
   "execution_count": null,
   "id": "15ba9422",
   "metadata": {},
   "outputs": [],
   "source": []
  },
  {
   "cell_type": "code",
   "execution_count": null,
   "id": "819cc906",
   "metadata": {},
   "outputs": [],
   "source": []
  },
  {
   "cell_type": "code",
   "execution_count": null,
   "id": "e2829380",
   "metadata": {},
   "outputs": [],
   "source": []
  },
  {
   "cell_type": "code",
   "execution_count": null,
   "id": "0d25045c",
   "metadata": {},
   "outputs": [],
   "source": []
  }
 ],
 "metadata": {
  "kernelspec": {
   "display_name": "Python 3 (ipykernel)",
   "language": "python",
   "name": "python3"
  },
  "language_info": {
   "codemirror_mode": {
    "name": "ipython",
    "version": 3
   },
   "file_extension": ".py",
   "mimetype": "text/x-python",
   "name": "python",
   "nbconvert_exporter": "python",
   "pygments_lexer": "ipython3",
   "version": "3.9.7"
  }
 },
 "nbformat": 4,
 "nbformat_minor": 5
}
